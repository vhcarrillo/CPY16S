{
  "cells": [
    {
      "cell_type": "markdown",
      "metadata": {
        "id": "xJhiP47E2NbZ"
      },
      "source": [
        "This notebook is for the analysis of 16S amplicon sequencing form cenotes in the Yucatan Peninsula\n",
        "\n",
        "The files are in a repo in github https://github.com/vhcarrillo/CPY16S.git"
      ]
    },
    {
      "cell_type": "markdown",
      "metadata": {
        "id": "Jn5x-w95IT6d"
      },
      "source": [
        "The original files listed in the repo are:"
      ]
    },
    {
      "cell_type": "code",
      "execution_count": 17,
      "metadata": {
        "colab": {
          "base_uri": "https://localhost:8080/"
        },
        "id": "Y0ciEPl3IaVA",
        "outputId": "00a1f110-c35e-467d-c761-e9b1b017359b",
        "vscode": {
          "languageId": "shellscript"
        }
      },
      "outputs": [
        {
          "name": "stdout",
          "output_type": "stream",
          "text": [
            "CPY16S.ipynb  metadata.tsv       rep-seqs-cenotes.qza  table-freq-cenotes.qza\n",
            "README.md     paper_sep18.ipynb  setup_qiime2.py       table-freq-cenotes.qzv\n",
            "(qiime2-2022.2) "
          ]
        },
        {
          "ename": "",
          "evalue": "1",
          "output_type": "error",
          "traceback": []
        }
      ],
      "source": [
        "ls CPY16S/"
      ]
    },
    {
      "cell_type": "markdown",
      "metadata": {
        "id": "oc6K5JANKTjZ"
      },
      "source": [
        "*   metadata.tsv contains the metadata for the sites of study\n",
        "* The raw data were procesed in by Seth in order to combine the files obteined form the sequencer because some samples were sequenced first and the others later. After combined the data, were denoised by dada2 according qiime2 documentation. The artifacts (files) obtained were:\n",
        "  * rep-seqs-cenotes.qza\n",
        "  * table-freq-cenotes.qza\n",
        "  * table-freq-cenotes.qzv\n",
        "\n"
      ]
    },
    {
      "cell_type": "markdown",
      "metadata": {
        "id": "iKF3Utnrlauu"
      },
      "source": [
        "As the artifacts have have all the samples sequenced and in three of them there are no sequences it will remove.\n",
        "\n",
        "| Sample ID |\tSequence Count |\n",
        "| --------- | -------------- |\n",
        "| YB03 |\t60,504 |\n",
        "| YB08 |\t44,902 |\n",
        "| YBO4 |\t43,221 |\n",
        "| YB13 |\t41,795 |\n",
        "| MX.01 |\t23,095 |\n",
        "| MX.02\t| 16 |\n",
        "| YB05 |\t12 |\n",
        "| MX.04 |\t0 |"
      ]
    },
    {
      "cell_type": "code",
      "execution_count": 20,
      "metadata": {
        "colab": {
          "base_uri": "https://localhost:8080/"
        },
        "id": "x3Vhj-8hi32E",
        "outputId": "074d7a95-f918-41bb-8c62-74f4a9fff99c",
        "vscode": {
          "languageId": "shellscript"
        }
      },
      "outputs": [
        {
          "name": "stdout",
          "output_type": "stream",
          "text": [
            "\u001b[32mSaved FeatureTable[Frequency] to: CPY16S/sites_filtered/table-freq-cpy16s.qza\u001b[0m\n",
            "\u001b[0m(qiime2-2022.2) "
          ]
        },
        {
          "ename": "",
          "evalue": "1",
          "output_type": "error",
          "traceback": []
        }
      ],
      "source": [
        "qiime feature-table filter-samples \\\n",
        "  --i-table CPY16S/table-freq-cenotes.qza \\\n",
        "  --m-metadata-file CPY16S/metadata.tsv \\\n",
        "  --o-filtered-table CPY16S/sites_filtered/table-freq-cpy16s.qza"
      ]
    },
    {
      "cell_type": "markdown",
      "metadata": {
        "id": "vzjA3pn-aGZh"
      },
      "source": [
        "Now, the sites with few sequences (MX.02, YB05 and MX.04) were removed. Let's create a visualization artifact to confirm that"
      ]
    },
    {
      "cell_type": "code",
      "execution_count": 22,
      "metadata": {
        "colab": {
          "base_uri": "https://localhost:8080/"
        },
        "id": "F8jQT-Owajrg",
        "outputId": "15ba2bea-8b09-465c-a672-858f7c675561",
        "vscode": {
          "languageId": "shellscript"
        }
      },
      "outputs": [
        {
          "name": "stdout",
          "output_type": "stream",
          "text": [
            "\u001b[32mSaved Visualization to: CPY16S/sites_filtered//table-freq-tes-cpy16s.qzv\u001b[0m\n",
            "\u001b[0m(qiime2-2022.2) "
          ]
        },
        {
          "ename": "",
          "evalue": "1",
          "output_type": "error",
          "traceback": []
        }
      ],
      "source": [
        "qiime feature-table summarize \\\n",
        "  --i-table CPY16S/sites_filtered/table-freq-cpy16s.qza\\\n",
        "  --o-visualization CPY16S/sites_filtered//table-freq-tes-cpy16s.qzv \\\n",
        "  --m-sample-metadata-file CPY16S/metadata.tsv"
      ]
    },
    {
      "cell_type": "markdown",
      "metadata": {},
      "source": [
        "__Table Summary__\n",
        "\n",
        "|   Metric  |   Sample  |\n",
        "|   ------  |   ------- |\n",
        "| Number of samples |\t5 |\n",
        "| Number of features |\t1,856 |\n",
        "| Total frequency |\t213,517 |\n",
        "\n",
        "__Frequency per sample__\n",
        "\n",
        "|       | Frequency |\n",
        "| ------ | ----- |\n",
        "| Minimum frequency | 23,095.0 |\n",
        "| 1st quartile | 41,795.0 |\n",
        "| Median frequency | 43,221.0 |\n",
        "| 3rd quartile | 44,902.0 |\n",
        "| Maximum frequency | 60,504.0 |\n",
        "| Mean frequency | 42,703.4 |\n"
      ]
    },
    {
      "cell_type": "markdown",
      "metadata": {
        "id": "7QJKmrNtbdjZ"
      },
      "source": [
        "Confirmed the sites removed, the sequences will remove too"
      ]
    },
    {
      "cell_type": "code",
      "execution_count": 23,
      "metadata": {
        "colab": {
          "base_uri": "https://localhost:8080/"
        },
        "id": "ixaY06CZbrnO",
        "outputId": "4d93a0f9-615c-4aae-f467-aff84eadb872",
        "vscode": {
          "languageId": "shellscript"
        }
      },
      "outputs": [
        {
          "name": "stdout",
          "output_type": "stream",
          "text": [
            "\u001b[32mSaved FeatureData[Sequence] to: CPY16S/sites_filtered/rep-seqs-cpy16s.qza\u001b[0m\n",
            "\u001b[0m(qiime2-2022.2) "
          ]
        },
        {
          "ename": "",
          "evalue": "1",
          "output_type": "error",
          "traceback": []
        }
      ],
      "source": [
        "qiime feature-table filter-seqs \\\n",
        "  --i-data CPY16S/rep-seqs-cenotes.qza \\\n",
        "  --i-table CPY16S/sites_filtered/table-freq-cpy16s.qza \\\n",
        "  --o-filtered-data CPY16S/sites_filtered/rep-seqs-cpy16s.qza"
      ]
    },
    {
      "cell_type": "markdown",
      "metadata": {
        "id": "WLHFSn1qkX2Y"
      },
      "source": [
        "and tabulate the sequences"
      ]
    },
    {
      "cell_type": "code",
      "execution_count": 24,
      "metadata": {
        "colab": {
          "base_uri": "https://localhost:8080/"
        },
        "id": "8JnM2oFQkd2e",
        "outputId": "2bef4a13-c877-4689-8077-b190da80d425",
        "vscode": {
          "languageId": "shellscript"
        }
      },
      "outputs": [
        {
          "name": "stdout",
          "output_type": "stream",
          "text": [
            "\u001b[32mSaved Visualization to: CPY16S/sites_filtered/rep-seqs-cpy16s.qzv\u001b[0m\n",
            "\u001b[0m(qiime2-2022.2) "
          ]
        },
        {
          "ename": "",
          "evalue": "1",
          "output_type": "error",
          "traceback": []
        }
      ],
      "source": [
        "qiime feature-table tabulate-seqs \\\n",
        "  --i-data CPY16S/sites_filtered/rep-seqs-cpy16s.qza \\\n",
        "  --o-visualization CPY16S/sites_filtered/rep-seqs-cpy16s.qzv"
      ]
    },
    {
      "cell_type": "markdown",
      "metadata": {},
      "source": [
        "__Sequence Length Statistics__\n",
        "\n",
        "| Sequence Count | Min Lenght | Max Lenght | Mean Lenght | Range | Standard Deviation |\n",
        "| -------------- | ---------- | ---------- | ----------- | ----- | ------------------ |\n",
        "| 1856 | 189 | 273 | 252.87 | 84 | 3.29"
      ]
    },
    {
      "cell_type": "markdown",
      "metadata": {
        "id": "s63q3nl9ociC"
      },
      "source": [
        "__Phylogenetic diversity analyses__\n",
        "\n",
        "building a phylogenetic tree"
      ]
    },
    {
      "cell_type": "code",
      "execution_count": 25,
      "metadata": {
        "colab": {
          "base_uri": "https://localhost:8080/"
        },
        "id": "rZUexk3mpBZa",
        "outputId": "9535ab1c-4d1d-440e-acca-4dd20458609d",
        "vscode": {
          "languageId": "shellscript"
        }
      },
      "outputs": [
        {
          "name": "stdout",
          "output_type": "stream",
          "text": [
            "\u001b[32mSaved FeatureData[AlignedSequence] to: CPY16S/tree/alignment.qza\u001b[0m\n",
            "\u001b[32mSaved FeatureData[AlignedSequence] to: CPY16S/tree/masked_alignment.qza\u001b[0m\n",
            "\u001b[32mSaved Phylogeny[Unrooted] to: CPY16S/tree/tree.qza\u001b[0m\n",
            "\u001b[32mSaved Phylogeny[Rooted] to: CPY16S/tree/rooted_tree.qza\u001b[0m\n",
            "\u001b[0m(qiime2-2022.2) "
          ]
        },
        {
          "ename": "",
          "evalue": "1",
          "output_type": "error",
          "traceback": []
        }
      ],
      "source": [
        "qiime phylogeny align-to-tree-mafft-fasttree \\\n",
        "    --i-sequences CPY16S/sites_filtered/rep-seqs-cpy16s.qza \\\n",
        "    --output-dir CPY16S/tree"
      ]
    },
    {
      "cell_type": "markdown",
      "metadata": {
        "id": "G_-05L4by5Fj"
      },
      "source": [
        "** Alpha and Beta Diversity\n",
        "\n",
        "Use the phylogenetic method to compute diversity metrics"
      ]
    },
    {
      "cell_type": "code",
      "execution_count": 9,
      "metadata": {
        "colab": {
          "base_uri": "https://localhost:8080/"
        },
        "id": "vNOdmwqtqKM9",
        "outputId": "4af940bc-0735-4f79-ad4c-8d1de3027c56",
        "vscode": {
          "languageId": "shellscript"
        }
      },
      "outputs": [
        {
          "name": "stdout",
          "output_type": "stream",
          "text": [
            "\u001b[32mSaved FeatureTable[Frequency] to: CPY16S/diversity/rarefied_table.qza\u001b[0m\n",
            "\u001b[32mSaved SampleData[AlphaDiversity] to: CPY16S/diversity/faith_pd_vector.qza\u001b[0m\n",
            "\u001b[32mSaved SampleData[AlphaDiversity] to: CPY16S/diversity/observed_features_vector.qza\u001b[0m\n",
            "\u001b[32mSaved SampleData[AlphaDiversity] to: CPY16S/diversity/shannon_vector.qza\u001b[0m\n",
            "\u001b[32mSaved SampleData[AlphaDiversity] to: CPY16S/diversity/evenness_vector.qza\u001b[0m\n",
            "\u001b[32mSaved DistanceMatrix to: CPY16S/diversity/unweighted_unifrac_distance_matrix.qza\u001b[0m\n",
            "\u001b[32mSaved DistanceMatrix to: CPY16S/diversity/weighted_unifrac_distance_matrix.qza\u001b[0m\n",
            "\u001b[32mSaved DistanceMatrix to: CPY16S/diversity/jaccard_distance_matrix.qza\u001b[0m\n",
            "\u001b[32mSaved DistanceMatrix to: CPY16S/diversity/bray_curtis_distance_matrix.qza\u001b[0m\n",
            "\u001b[32mSaved PCoAResults to: CPY16S/diversity/unweighted_unifrac_pcoa_results.qza\u001b[0m\n",
            "\u001b[32mSaved PCoAResults to: CPY16S/diversity/weighted_unifrac_pcoa_results.qza\u001b[0m\n",
            "\u001b[32mSaved PCoAResults to: CPY16S/diversity/jaccard_pcoa_results.qza\u001b[0m\n",
            "\u001b[32mSaved PCoAResults to: CPY16S/diversity/bray_curtis_pcoa_results.qza\u001b[0m\n",
            "\u001b[32mSaved Visualization to: CPY16S/diversity/unweighted_unifrac_emperor.qzv\u001b[0m\n",
            "\u001b[32mSaved Visualization to: CPY16S/diversity/weighted_unifrac_emperor.qzv\u001b[0m\n",
            "\u001b[32mSaved Visualization to: CPY16S/diversity/jaccard_emperor.qzv\u001b[0m\n",
            "\u001b[32mSaved Visualization to: CPY16S/diversity/bray_curtis_emperor.qzv\u001b[0m\n",
            "\u001b[0m(qiime2-2022.2) "
          ]
        },
        {
          "ename": "",
          "evalue": "1",
          "output_type": "error",
          "traceback": []
        }
      ],
      "source": [
        "qiime diversity core-metrics-phylogenetic \\\n",
        "    --i-table CPY16S/sites_filtered/table-freq-cpy16s.qza \\\n",
        "    --i-phylogeny CPY16S/tree/rooted_tree.qza \\\n",
        "    --p-sampling-depth 23094 \\\n",
        "    --m-metadata-file CPY16S/metadata.tsv \\\n",
        "    --output-dir CPY16S/diversity"
      ]
    },
    {
      "cell_type": "markdown",
      "metadata": {},
      "source": [
        "Tabulate some diversity metrics (Observed otu's, shannon, evenness, chao1)"
      ]
    },
    {
      "cell_type": "code",
      "execution_count": 13,
      "metadata": {
        "vscode": {
          "languageId": "shellscript"
        }
      },
      "outputs": [
        {
          "name": "stdout",
          "output_type": "stream",
          "text": [
            "\u001b[32mSaved SampleData[AlphaDiversity] to: CPY16S/diversity/chao1.qza\u001b[0m\n",
            "\u001b[0m(qiime2-2022.2) "
          ]
        },
        {
          "ename": "",
          "evalue": "1",
          "output_type": "error",
          "traceback": []
        }
      ],
      "source": [
        "# first we need to calculate the indexes needed\n",
        "qiime diversity alpha \\\n",
        "  --i-table CPY16S/sites_filtered/table-freq-cpy16s.qza \\\n",
        "  --p-metric chao1 \\\n",
        "  --o-alpha-diversity CPY16S/diversity/chao1.qza"
      ]
    },
    {
      "cell_type": "code",
      "execution_count": 14,
      "metadata": {
        "vscode": {
          "languageId": "shellscript"
        }
      },
      "outputs": [
        {
          "name": "stdout",
          "output_type": "stream",
          "text": [
            "(qiime2-2022.2) \u001b[32mSaved Visualization to: CPY16S/diversity/divesity_indexes.qzv\u001b[0m\n",
            "\u001b[0m(qiime2-2022.2) "
          ]
        },
        {
          "ename": "",
          "evalue": "1",
          "output_type": "error",
          "traceback": []
        }
      ],
      "source": [
        "# Then, tabulate the indexes\n",
        "qiime metadata tabulate \\\n",
        "  --m-input-file metadata.tsv \\\n",
        "  --m-input-file CPY16S/diversity/observed_features_vector.qza \\\n",
        "  --m-input-file CPY16S/diversity/shannon_vector.qza \\\n",
        "  --m-input-file CPY16S/diversity/evenness_vector.qza \\\n",
        "  --m-input-file CPY16S/diversity/chao1.qza \\\n",
        "  --o-visualization CPY16S/diversity/divesity_indexes.qzv"
      ]
    },
    {
      "cell_type": "markdown",
      "metadata": {},
      "source": [
        "![](https://view.qiime2.org/visualization/?type=html&src=93d5b3bd-0445-4b9c-8241-1ab1884cd11b)"
      ]
    },
    {
      "cell_type": "markdown",
      "metadata": {},
      "source": []
    },
    {
      "cell_type": "markdown",
      "metadata": {
        "id": "O6QL3R-0C_1V"
      },
      "source": [
        "**Taxonomy Analisys**\n",
        "\n",
        "We will use a Bayes classifier trained on the GreenGenes database which can be downloaded from:\n",
        "https://data.qiime2.org/2021.11/common/silva-138-99-515-806-nb-classifier.qza"
      ]
    },
    {
      "cell_type": "code",
      "execution_count": null,
      "metadata": {
        "colab": {
          "base_uri": "https://localhost:8080/"
        },
        "id": "OLEK7--aCqaG",
        "outputId": "53837a05-7bb1-4dbd-889f-8918989e45a3",
        "vscode": {
          "languageId": "shellscript"
        }
      },
      "outputs": [
        {
          "name": "stdout",
          "output_type": "stream",
          "text": [
            "--2022-04-27 17:46:30--  https://data.qiime2.org/2021.11/common/silva-138-99-515-806-nb-classifier.qza\n",
            "Resolving data.qiime2.org (data.qiime2.org)... 54.200.1.12\n",
            "Connecting to data.qiime2.org (data.qiime2.org)|54.200.1.12|:443... connected.\n",
            "HTTP request sent, awaiting response... 302 FOUND\n",
            "Location: https://s3-us-west-2.amazonaws.com/qiime2-data/2021.11/common/silva-138-99-515-806-nb-classifier.qza [following]\n",
            "--2022-04-27 17:46:31--  https://s3-us-west-2.amazonaws.com/qiime2-data/2021.11/common/silva-138-99-515-806-nb-classifier.qza\n",
            "Resolving s3-us-west-2.amazonaws.com (s3-us-west-2.amazonaws.com)... 52.218.233.96\n",
            "Connecting to s3-us-west-2.amazonaws.com (s3-us-west-2.amazonaws.com)|52.218.233.96|:443... connected.\n",
            "HTTP request sent, awaiting response... 200 OK\n",
            "Length: 148294965 (141M) [binary/octet-stream]\n",
            "Saving to: ‘silva-138-99-515-806-nb-classifier.qza’\n",
            "\n",
            "silva-138-99-515-80 100%[===================>] 141.42M  41.8MB/s    in 3.4s    \n",
            "\n",
            "2022-04-27 17:46:34 (41.8 MB/s) - ‘silva-138-99-515-806-nb-classifier.qza’ saved [148294965/148294965]\n",
            "\n"
          ]
        }
      ],
      "source": [
        "!wget https://data.qiime2.org/2021.11/common/silva-138-99-515-806-nb-classifier.qza"
      ]
    },
    {
      "cell_type": "code",
      "execution_count": null,
      "metadata": {
        "colab": {
          "base_uri": "https://localhost:8080/"
        },
        "id": "evmN8nxZDlGz",
        "outputId": "823b4206-4ee8-4a0d-eab9-08381d3d69d5",
        "vscode": {
          "languageId": "shellscript"
        }
      },
      "outputs": [
        {
          "name": "stdout",
          "output_type": "stream",
          "text": [
            "/bin/bash: qiime: command not found\n"
          ]
        }
      ],
      "source": [
        "!qiime feature-classifier classify-sklearn \\\n",
        "    --i-reads CPY16S/sites_filtered/rep-seqs-cpy16s.qza \\\n",
        "    --i-classifier silva-138-99-515-806-nb-classifier.qza \\\n",
        "    --o-classification CPY16S/taxonomy/taxa-cpy16s.qza"
      ]
    },
    {
      "cell_type": "markdown",
      "metadata": {
        "id": "p0h9AbODG6sq"
      },
      "source": [
        "Now let's have a look at the relative abundances of the different bacterial taxa we have in each sample:"
      ]
    },
    {
      "cell_type": "code",
      "execution_count": null,
      "metadata": {
        "colab": {
          "base_uri": "https://localhost:8080/"
        },
        "id": "4bd_e4RrHFGK",
        "outputId": "e567ea7c-1df5-4ef5-84e5-eec08446fa8d",
        "vscode": {
          "languageId": "shellscript"
        }
      },
      "outputs": [
        {
          "name": "stdout",
          "output_type": "stream",
          "text": [
            "/bin/bash: qiime: command not found\n"
          ]
        }
      ],
      "source": [
        "!qiime taxa barplot \\\n",
        "    --i-table dada2/table.qza \\\n",
        "    --i-taxonomy taxa.qza \\\n",
        "    --m-metadata-file metadata.tsv \\\n",
        "    --o-visualization taxa_barplot.qzv"
      ]
    },
    {
      "cell_type": "code",
      "execution_count": null,
      "metadata": {
        "colab": {
          "base_uri": "https://localhost:8080/"
        },
        "id": "IhGgn8KGMop9",
        "outputId": "88b6ab45-daeb-4429-e486-62cb10528399",
        "vscode": {
          "languageId": "shellscript"
        }
      },
      "outputs": [
        {
          "name": "stdout",
          "output_type": "stream",
          "text": [
            "\n",
            "System:\n",
            "    python: 3.7.13 (default, Apr 24 2022, 01:04:09)  [GCC 7.5.0]\n",
            "executable: /usr/bin/python3\n",
            "   machine: Linux-5.4.144+-x86_64-with-Ubuntu-18.04-bionic\n",
            "\n",
            "Python dependencies:\n",
            "          pip: 21.1.3\n",
            "   setuptools: 57.4.0\n",
            "      sklearn: 1.0.2\n",
            "        numpy: 1.21.6\n",
            "        scipy: 1.4.1\n",
            "       Cython: 0.29.28\n",
            "       pandas: 1.3.5\n",
            "   matplotlib: 3.2.2\n",
            "       joblib: 1.1.0\n",
            "threadpoolctl: 3.1.0\n",
            "\n",
            "Built with OpenMP: True\n"
          ]
        }
      ],
      "source": [
        "import sklearn\n",
        "sklearn.__version__\n",
        "sklearn.show_versions()"
      ]
    },
    {
      "cell_type": "markdown",
      "metadata": {
        "id": "h1AULLUvNCXE"
      },
      "source": [
        "The scikit-learn version (0.24.1) used to generate this artifact does not match the current version of scikit-learn installed (0.22.1)."
      ]
    }
  ],
  "metadata": {
    "colab": {
      "collapsed_sections": [],
      "history_visible": true,
      "include_colab_link": true,
      "name": "CPY16S",
      "provenance": []
    },
    "kernelspec": {
      "display_name": "Bash",
      "language": "bash",
      "name": "bash"
    },
    "language_info": {
      "codemirror_mode": "shell",
      "file_extension": ".sh",
      "mimetype": "text/x-sh",
      "name": "bash"
    }
  },
  "nbformat": 4,
  "nbformat_minor": 0
}
