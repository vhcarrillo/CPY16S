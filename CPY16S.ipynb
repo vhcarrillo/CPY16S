{
  "nbformat": 4,
  "nbformat_minor": 0,
  "metadata": {
    "colab": {
      "name": "CPY16S",
      "provenance": [],
      "authorship_tag": "ABX9TyNCkE3xbFtDqIizVmXRxy43",
      "include_colab_link": true
    },
    "kernelspec": {
      "name": "python3",
      "display_name": "Python 3"
    },
    "language_info": {
      "name": "python"
    }
  },
  "cells": [
    {
      "cell_type": "markdown",
      "metadata": {
        "id": "view-in-github",
        "colab_type": "text"
      },
      "source": [
        "<a href=\"https://colab.research.google.com/github/vhcarrillo/CPY16S/blob/main/CPY16S.ipynb\" target=\"_parent\"><img src=\"https://colab.research.google.com/assets/colab-badge.svg\" alt=\"Open In Colab\"/></a>"
      ]
    },
    {
      "cell_type": "markdown",
      "source": [
        "This notebook is for the analysis of 16S amplicon sequencing form cenotes in the Yucatan Peninsula\n",
        "\n",
        "Fist, import the dataset from a repo in Github"
      ],
      "metadata": {
        "id": "xJhiP47E2NbZ"
      }
    },
    {
      "cell_type": "code",
      "execution_count": 5,
      "metadata": {
        "colab": {
          "base_uri": "https://localhost:8080/"
        },
        "id": "Tvq8KM-Z1tK3",
        "outputId": "f0e52a71-6b62-4d1e-d7f6-01ff6c0437f9"
      },
      "outputs": [
        {
          "output_type": "stream",
          "name": "stdout",
          "text": [
            "Cloning into 'CPY16S'...\n",
            "remote: Enumerating objects: 13, done.\u001b[K\n",
            "remote: Total 13 (delta 0), reused 0 (delta 0), pack-reused 13\u001b[K\n",
            "Unpacking objects: 100% (13/13), done.\n"
          ]
        }
      ],
      "source": [
        "!git clone https://github.com/vhcarrillo/CPY16S.git"
      ]
    },
    {
      "cell_type": "markdown",
      "source": [
        "The original files listed in the repo are:"
      ],
      "metadata": {
        "id": "Jn5x-w95IT6d"
      }
    },
    {
      "cell_type": "code",
      "source": [
        "%ls CPY16S/"
      ],
      "metadata": {
        "colab": {
          "base_uri": "https://localhost:8080/"
        },
        "id": "Y0ciEPl3IaVA",
        "outputId": "adf9638c-8231-4671-a0f3-83a04f9239ea"
      },
      "execution_count": 8,
      "outputs": [
        {
          "output_type": "stream",
          "name": "stdout",
          "text": [
            "metadata.tsv       rep-seqs-cenotes.qza    table-freq-cenotes.qzv\n",
            "paper_sep18.ipynb  setup_qiime2.py\n",
            "README.md          table-freq-cenotes.qza\n"
          ]
        }
      ]
    },
    {
      "cell_type": "markdown",
      "source": [
        "*   metadata.tsv that contains the metadata for the sites of study\n",
        "*   \n",
        "\n"
      ],
      "metadata": {
        "id": "oc6K5JANKTjZ"
      }
    },
    {
      "cell_type": "markdown",
      "source": [
        "In the repository is there a file to install qiime2 named setup_qiime2.py got it from https://github.com/Gibbons-Lab/isb_course_2021/blob/main/setup_qiime2"
      ],
      "metadata": {
        "id": "zp3khyaCGoXT"
      }
    },
    {
      "cell_type": "code",
      "source": [
        "%run CPY16S/setup_qiime2.py"
      ],
      "metadata": {
        "colab": {
          "base_uri": "https://localhost:8080/",
          "height": 273
        },
        "id": "smnxa3nXH3_S",
        "outputId": "fe511786-044c-4461-e6b1-f23d5766c2a5"
      },
      "execution_count": 6,
      "outputs": [
        {
          "output_type": "display_data",
          "data": {
            "text/html": [
              "<pre style=\"white-space:pre;overflow-x:auto;line-height:normal;font-family:Menlo,'DejaVu Sans Mono',consolas,'Courier New',monospace\"><span style=\"color: #7fbfbf; text-decoration-color: #7fbfbf\">[18:36:00] </span>🐍 Downloading miniconda<span style=\"color: #808000; text-decoration-color: #808000\">...</span>                                     <a href=\"file:///content/CPY16S/setup_qiime2.py\"><span style=\"color: #7f7f7f; text-decoration-color: #7f7f7f\">setup_qiime2.py</span></a><span style=\"color: #7f7f7f; text-decoration-color: #7f7f7f\">:</span><a href=\"file:///content/CPY16S/setup_qiime2.py#39\"><span style=\"color: #7f7f7f; text-decoration-color: #7f7f7f\">39</span></a>\n",
              "</pre>\n"
            ],
            "text/plain": [
              "\u001b[2;36m[18:36:00]\u001b[0m\u001b[2;36m \u001b[0m🐍 Downloading miniconda\u001b[33m...\u001b[0m                                     \u001b]8;id=318099;file:///content/CPY16S/setup_qiime2.py\u001b\\\u001b[2msetup_qiime2.py\u001b[0m\u001b]8;;\u001b\\\u001b[2m:\u001b[0m\u001b]8;id=166903;file:///content/CPY16S/setup_qiime2.py#39\u001b\\\u001b[2m39\u001b[0m\u001b]8;;\u001b\\\n"
            ]
          },
          "metadata": {}
        },
        {
          "output_type": "display_data",
          "data": {
            "text/html": [
              "<pre style=\"white-space:pre;overflow-x:auto;line-height:normal;font-family:Menlo,'DejaVu Sans Mono',consolas,'Courier New',monospace\"><span style=\"color: #7fbfbf; text-decoration-color: #7fbfbf\">[18:36:01] </span><span style=\"color: #000080; text-decoration-color: #000080\">🐍 Done.</span>                                                        <a href=\"file:///content/CPY16S/setup_qiime2.py\"><span style=\"color: #7f7f7f; text-decoration-color: #7f7f7f\">setup_qiime2.py</span></a><span style=\"color: #7f7f7f; text-decoration-color: #7f7f7f\">:</span><a href=\"file:///content/CPY16S/setup_qiime2.py#45\"><span style=\"color: #7f7f7f; text-decoration-color: #7f7f7f\">45</span></a>\n",
              "</pre>\n"
            ],
            "text/plain": [
              "\u001b[2;36m[18:36:01]\u001b[0m\u001b[2;36m \u001b[0m\u001b[34m🐍 Done.\u001b[0m                                                        \u001b]8;id=899596;file:///content/CPY16S/setup_qiime2.py\u001b\\\u001b[2msetup_qiime2.py\u001b[0m\u001b]8;;\u001b\\\u001b[2m:\u001b[0m\u001b]8;id=972318;file:///content/CPY16S/setup_qiime2.py#45\u001b\\\u001b[2m45\u001b[0m\u001b]8;;\u001b\\\n"
            ]
          },
          "metadata": {}
        },
        {
          "output_type": "display_data",
          "data": {
            "text/html": [
              "<pre style=\"white-space:pre;overflow-x:auto;line-height:normal;font-family:Menlo,'DejaVu Sans Mono',consolas,'Courier New',monospace\"><span style=\"color: #7fbfbf; text-decoration-color: #7fbfbf\">           </span>🐍 Installing miniconda<span style=\"color: #808000; text-decoration-color: #808000\">...</span>                                      <a href=\"file:///content/CPY16S/setup_qiime2.py\"><span style=\"color: #7f7f7f; text-decoration-color: #7f7f7f\">setup_qiime2.py</span></a><span style=\"color: #7f7f7f; text-decoration-color: #7f7f7f\">:</span><a href=\"file:///content/CPY16S/setup_qiime2.py#39\"><span style=\"color: #7f7f7f; text-decoration-color: #7f7f7f\">39</span></a>\n",
              "</pre>\n"
            ],
            "text/plain": [
              "\u001b[2;36m          \u001b[0m\u001b[2;36m \u001b[0m🐍 Installing miniconda\u001b[33m...\u001b[0m                                      \u001b]8;id=37530;file:///content/CPY16S/setup_qiime2.py\u001b\\\u001b[2msetup_qiime2.py\u001b[0m\u001b]8;;\u001b\\\u001b[2m:\u001b[0m\u001b]8;id=661258;file:///content/CPY16S/setup_qiime2.py#39\u001b\\\u001b[2m39\u001b[0m\u001b]8;;\u001b\\\n"
            ]
          },
          "metadata": {}
        },
        {
          "output_type": "display_data",
          "data": {
            "text/html": [
              "<pre style=\"white-space:pre;overflow-x:auto;line-height:normal;font-family:Menlo,'DejaVu Sans Mono',consolas,'Courier New',monospace\"><span style=\"color: #7fbfbf; text-decoration-color: #7fbfbf\">[18:36:30] </span><span style=\"color: #000080; text-decoration-color: #000080\">🐍 Installed miniconda to `/usr/local` 🐍</span>                       <a href=\"file:///content/CPY16S/setup_qiime2.py\"><span style=\"color: #7f7f7f; text-decoration-color: #7f7f7f\">setup_qiime2.py</span></a><span style=\"color: #7f7f7f; text-decoration-color: #7f7f7f\">:</span><a href=\"file:///content/CPY16S/setup_qiime2.py#45\"><span style=\"color: #7f7f7f; text-decoration-color: #7f7f7f\">45</span></a>\n",
              "</pre>\n"
            ],
            "text/plain": [
              "\u001b[2;36m[18:36:30]\u001b[0m\u001b[2;36m \u001b[0m\u001b[34m🐍 Installed miniconda to `\u001b[0m\u001b[34m/usr/\u001b[0m\u001b[34mlocal\u001b[0m\u001b[34m` 🐍\u001b[0m                       \u001b]8;id=535932;file:///content/CPY16S/setup_qiime2.py\u001b\\\u001b[2msetup_qiime2.py\u001b[0m\u001b]8;;\u001b\\\u001b[2m:\u001b[0m\u001b]8;id=319907;file:///content/CPY16S/setup_qiime2.py#45\u001b\\\u001b[2m45\u001b[0m\u001b]8;;\u001b\\\n"
            ]
          },
          "metadata": {}
        },
        {
          "output_type": "display_data",
          "data": {
            "text/html": [
              "<pre style=\"white-space:pre;overflow-x:auto;line-height:normal;font-family:Menlo,'DejaVu Sans Mono',consolas,'Courier New',monospace\"><span style=\"color: #7fbfbf; text-decoration-color: #7fbfbf\">           </span>🔍 Downloading Qiime <span style=\"color: #008080; text-decoration-color: #008080; font-weight: bold\">2</span> package list<span style=\"color: #808000; text-decoration-color: #808000\">...</span>                          <a href=\"file:///content/CPY16S/setup_qiime2.py\"><span style=\"color: #7f7f7f; text-decoration-color: #7f7f7f\">setup_qiime2.py</span></a><span style=\"color: #7f7f7f; text-decoration-color: #7f7f7f\">:</span><a href=\"file:///content/CPY16S/setup_qiime2.py#39\"><span style=\"color: #7f7f7f; text-decoration-color: #7f7f7f\">39</span></a>\n",
              "</pre>\n"
            ],
            "text/plain": [
              "\u001b[2;36m          \u001b[0m\u001b[2;36m \u001b[0m🔍 Downloading Qiime \u001b[1;36m2\u001b[0m package list\u001b[33m...\u001b[0m                          \u001b]8;id=968124;file:///content/CPY16S/setup_qiime2.py\u001b\\\u001b[2msetup_qiime2.py\u001b[0m\u001b]8;;\u001b\\\u001b[2m:\u001b[0m\u001b]8;id=441922;file:///content/CPY16S/setup_qiime2.py#39\u001b\\\u001b[2m39\u001b[0m\u001b]8;;\u001b\\\n"
            ]
          },
          "metadata": {}
        },
        {
          "output_type": "display_data",
          "data": {
            "text/html": [
              "<pre style=\"white-space:pre;overflow-x:auto;line-height:normal;font-family:Menlo,'DejaVu Sans Mono',consolas,'Courier New',monospace\"><span style=\"color: #7fbfbf; text-decoration-color: #7fbfbf\">           </span><span style=\"color: #000080; text-decoration-color: #000080\">🔍 Done.</span>                                                        <a href=\"file:///content/CPY16S/setup_qiime2.py\"><span style=\"color: #7f7f7f; text-decoration-color: #7f7f7f\">setup_qiime2.py</span></a><span style=\"color: #7f7f7f; text-decoration-color: #7f7f7f\">:</span><a href=\"file:///content/CPY16S/setup_qiime2.py#45\"><span style=\"color: #7f7f7f; text-decoration-color: #7f7f7f\">45</span></a>\n",
              "</pre>\n"
            ],
            "text/plain": [
              "\u001b[2;36m          \u001b[0m\u001b[2;36m \u001b[0m\u001b[34m🔍 Done.\u001b[0m                                                        \u001b]8;id=712851;file:///content/CPY16S/setup_qiime2.py\u001b\\\u001b[2msetup_qiime2.py\u001b[0m\u001b]8;;\u001b\\\u001b[2m:\u001b[0m\u001b]8;id=756897;file:///content/CPY16S/setup_qiime2.py#45\u001b\\\u001b[2m45\u001b[0m\u001b]8;;\u001b\\\n"
            ]
          },
          "metadata": {}
        },
        {
          "output_type": "display_data",
          "data": {
            "text/html": [
              "<pre style=\"white-space:pre;overflow-x:auto;line-height:normal;font-family:Menlo,'DejaVu Sans Mono',consolas,'Courier New',monospace\"><span style=\"color: #7fbfbf; text-decoration-color: #7fbfbf\">           </span>🔍 Installing Qiime <span style=\"color: #008080; text-decoration-color: #008080; font-weight: bold\">2</span>. This may take a little bit.              <a href=\"file:///content/CPY16S/setup_qiime2.py\"><span style=\"color: #7f7f7f; text-decoration-color: #7f7f7f\">setup_qiime2.py</span></a><span style=\"color: #7f7f7f; text-decoration-color: #7f7f7f\">:</span><a href=\"file:///content/CPY16S/setup_qiime2.py#39\"><span style=\"color: #7f7f7f; text-decoration-color: #7f7f7f\">39</span></a>\n",
              "            🕐                                                                               \n",
              "</pre>\n"
            ],
            "text/plain": [
              "\u001b[2;36m          \u001b[0m\u001b[2;36m \u001b[0m🔍 Installing Qiime \u001b[1;36m2\u001b[0m. This may take a little bit.              \u001b]8;id=387256;file:///content/CPY16S/setup_qiime2.py\u001b\\\u001b[2msetup_qiime2.py\u001b[0m\u001b]8;;\u001b\\\u001b[2m:\u001b[0m\u001b]8;id=73523;file:///content/CPY16S/setup_qiime2.py#39\u001b\\\u001b[2m39\u001b[0m\u001b]8;;\u001b\\\n",
              "            🕐                                                                               \n"
            ]
          },
          "metadata": {}
        },
        {
          "output_type": "display_data",
          "data": {
            "text/html": [
              "<pre style=\"white-space:pre;overflow-x:auto;line-height:normal;font-family:Menlo,'DejaVu Sans Mono',consolas,'Courier New',monospace\"><span style=\"color: #7fbfbf; text-decoration-color: #7fbfbf\">[18:44:24] </span><span style=\"color: #000080; text-decoration-color: #000080\">🔍 Done.</span>                                                        <a href=\"file:///content/CPY16S/setup_qiime2.py\"><span style=\"color: #7f7f7f; text-decoration-color: #7f7f7f\">setup_qiime2.py</span></a><span style=\"color: #7f7f7f; text-decoration-color: #7f7f7f\">:</span><a href=\"file:///content/CPY16S/setup_qiime2.py#45\"><span style=\"color: #7f7f7f; text-decoration-color: #7f7f7f\">45</span></a>\n",
              "</pre>\n"
            ],
            "text/plain": [
              "\u001b[2;36m[18:44:24]\u001b[0m\u001b[2;36m \u001b[0m\u001b[34m🔍 Done.\u001b[0m                                                        \u001b]8;id=290675;file:///content/CPY16S/setup_qiime2.py\u001b\\\u001b[2msetup_qiime2.py\u001b[0m\u001b]8;;\u001b\\\u001b[2m:\u001b[0m\u001b]8;id=625371;file:///content/CPY16S/setup_qiime2.py#45\u001b\\\u001b[2m45\u001b[0m\u001b]8;;\u001b\\\n"
            ]
          },
          "metadata": {}
        },
        {
          "output_type": "display_data",
          "data": {
            "text/html": [
              "<pre style=\"white-space:pre;overflow-x:auto;line-height:normal;font-family:Menlo,'DejaVu Sans Mono',consolas,'Courier New',monospace\"><span style=\"color: #7fbfbf; text-decoration-color: #7fbfbf\">           </span>🔍 Fixed import paths to include Qiime <span style=\"color: #008080; text-decoration-color: #008080; font-weight: bold\">2</span>.                       <a href=\"file:///content/CPY16S/setup_qiime2.py\"><span style=\"color: #7f7f7f; text-decoration-color: #7f7f7f\">setup_qiime2.py</span></a><span style=\"color: #7f7f7f; text-decoration-color: #7f7f7f\">:</span><a href=\"file:///content/CPY16S/setup_qiime2.py#93\"><span style=\"color: #7f7f7f; text-decoration-color: #7f7f7f\">93</span></a>\n",
              "</pre>\n"
            ],
            "text/plain": [
              "\u001b[2;36m          \u001b[0m\u001b[2;36m \u001b[0m🔍 Fixed import paths to include Qiime \u001b[1;36m2\u001b[0m.                       \u001b]8;id=54600;file:///content/CPY16S/setup_qiime2.py\u001b\\\u001b[2msetup_qiime2.py\u001b[0m\u001b]8;;\u001b\\\u001b[2m:\u001b[0m\u001b]8;id=595815;file:///content/CPY16S/setup_qiime2.py#93\u001b\\\u001b[2m93\u001b[0m\u001b]8;;\u001b\\\n"
            ]
          },
          "metadata": {}
        },
        {
          "output_type": "display_data",
          "data": {
            "text/html": [
              "<pre style=\"white-space:pre;overflow-x:auto;line-height:normal;font-family:Menlo,'DejaVu Sans Mono',consolas,'Courier New',monospace\"><span style=\"color: #7fbfbf; text-decoration-color: #7fbfbf\">           </span>📊 Checking that Qiime <span style=\"color: #008080; text-decoration-color: #008080; font-weight: bold\">2</span> command line works<span style=\"color: #808000; text-decoration-color: #808000\">...</span>                  <a href=\"file:///content/CPY16S/setup_qiime2.py\"><span style=\"color: #7f7f7f; text-decoration-color: #7f7f7f\">setup_qiime2.py</span></a><span style=\"color: #7f7f7f; text-decoration-color: #7f7f7f\">:</span><a href=\"file:///content/CPY16S/setup_qiime2.py#39\"><span style=\"color: #7f7f7f; text-decoration-color: #7f7f7f\">39</span></a>\n",
              "</pre>\n"
            ],
            "text/plain": [
              "\u001b[2;36m          \u001b[0m\u001b[2;36m \u001b[0m📊 Checking that Qiime \u001b[1;36m2\u001b[0m command line works\u001b[33m...\u001b[0m                  \u001b]8;id=972777;file:///content/CPY16S/setup_qiime2.py\u001b\\\u001b[2msetup_qiime2.py\u001b[0m\u001b]8;;\u001b\\\u001b[2m:\u001b[0m\u001b]8;id=656133;file:///content/CPY16S/setup_qiime2.py#39\u001b\\\u001b[2m39\u001b[0m\u001b]8;;\u001b\\\n"
            ]
          },
          "metadata": {}
        },
        {
          "output_type": "display_data",
          "data": {
            "text/html": [
              "<pre style=\"white-space:pre;overflow-x:auto;line-height:normal;font-family:Menlo,'DejaVu Sans Mono',consolas,'Courier New',monospace\"><span style=\"color: #7fbfbf; text-decoration-color: #7fbfbf\">[18:44:28] </span><span style=\"color: #000080; text-decoration-color: #000080\">📊 Qiime </span><span style=\"color: #000080; text-decoration-color: #000080; font-weight: bold\">2</span><span style=\"color: #000080; text-decoration-color: #000080\"> command line looks good 🎉</span>                           <a href=\"file:///content/CPY16S/setup_qiime2.py\"><span style=\"color: #7f7f7f; text-decoration-color: #7f7f7f\">setup_qiime2.py</span></a><span style=\"color: #7f7f7f; text-decoration-color: #7f7f7f\">:</span><a href=\"file:///content/CPY16S/setup_qiime2.py#45\"><span style=\"color: #7f7f7f; text-decoration-color: #7f7f7f\">45</span></a>\n",
              "</pre>\n"
            ],
            "text/plain": [
              "\u001b[2;36m[18:44:28]\u001b[0m\u001b[2;36m \u001b[0m\u001b[34m📊 Qiime \u001b[0m\u001b[1;34m2\u001b[0m\u001b[34m command line looks good 🎉\u001b[0m                           \u001b]8;id=462577;file:///content/CPY16S/setup_qiime2.py\u001b\\\u001b[2msetup_qiime2.py\u001b[0m\u001b]8;;\u001b\\\u001b[2m:\u001b[0m\u001b]8;id=245740;file:///content/CPY16S/setup_qiime2.py#45\u001b\\\u001b[2m45\u001b[0m\u001b]8;;\u001b\\\n"
            ]
          },
          "metadata": {}
        },
        {
          "output_type": "display_data",
          "data": {
            "text/html": [
              "<pre style=\"white-space:pre;overflow-x:auto;line-height:normal;font-family:Menlo,'DejaVu Sans Mono',consolas,'Courier New',monospace\"><span style=\"color: #7fbfbf; text-decoration-color: #7fbfbf\">           </span>📊 Checking if Qiime <span style=\"color: #008080; text-decoration-color: #008080; font-weight: bold\">2</span> import works<span style=\"color: #808000; text-decoration-color: #808000\">...</span>                         <a href=\"file:///content/CPY16S/setup_qiime2.py\"><span style=\"color: #7f7f7f; text-decoration-color: #7f7f7f\">setup_qiime2.py</span></a><span style=\"color: #7f7f7f; text-decoration-color: #7f7f7f\">:</span><a href=\"file:///content/CPY16S/setup_qiime2.py#103\"><span style=\"color: #7f7f7f; text-decoration-color: #7f7f7f\">103</span></a>\n",
              "</pre>\n"
            ],
            "text/plain": [
              "\u001b[2;36m          \u001b[0m\u001b[2;36m \u001b[0m📊 Checking if Qiime \u001b[1;36m2\u001b[0m import works\u001b[33m...\u001b[0m                         \u001b]8;id=570715;file:///content/CPY16S/setup_qiime2.py\u001b\\\u001b[2msetup_qiime2.py\u001b[0m\u001b]8;;\u001b\\\u001b[2m:\u001b[0m\u001b]8;id=68494;file:///content/CPY16S/setup_qiime2.py#103\u001b\\\u001b[2m103\u001b[0m\u001b]8;;\u001b\\\n"
            ]
          },
          "metadata": {}
        },
        {
          "output_type": "display_data",
          "data": {
            "text/html": [
              "<pre style=\"white-space:pre;overflow-x:auto;line-height:normal;font-family:Menlo,'DejaVu Sans Mono',consolas,'Courier New',monospace\"><span style=\"color: #7fbfbf; text-decoration-color: #7fbfbf\">[18:44:29] </span><span style=\"color: #000080; text-decoration-color: #000080\">📊 Qiime </span><span style=\"color: #000080; text-decoration-color: #000080; font-weight: bold\">2</span><span style=\"color: #000080; text-decoration-color: #000080\"> can be imported 🎉</span>                                  <a href=\"file:///content/CPY16S/setup_qiime2.py\"><span style=\"color: #7f7f7f; text-decoration-color: #7f7f7f\">setup_qiime2.py</span></a><span style=\"color: #7f7f7f; text-decoration-color: #7f7f7f\">:</span><a href=\"file:///content/CPY16S/setup_qiime2.py#109\"><span style=\"color: #7f7f7f; text-decoration-color: #7f7f7f\">109</span></a>\n",
              "</pre>\n"
            ],
            "text/plain": [
              "\u001b[2;36m[18:44:29]\u001b[0m\u001b[2;36m \u001b[0m\u001b[34m📊 Qiime \u001b[0m\u001b[1;34m2\u001b[0m\u001b[34m can be imported 🎉\u001b[0m                                  \u001b]8;id=972673;file:///content/CPY16S/setup_qiime2.py\u001b\\\u001b[2msetup_qiime2.py\u001b[0m\u001b]8;;\u001b\\\u001b[2m:\u001b[0m\u001b]8;id=507564;file:///content/CPY16S/setup_qiime2.py#109\u001b\\\u001b[2m109\u001b[0m\u001b]8;;\u001b\\\n"
            ]
          },
          "metadata": {}
        },
        {
          "output_type": "display_data",
          "data": {
            "text/html": [
              "<pre style=\"white-space:pre;overflow-x:auto;line-height:normal;font-family:Menlo,'DejaVu Sans Mono',consolas,'Courier New',monospace\"><span style=\"color: #7fbfbf; text-decoration-color: #7fbfbf\">           </span>Cleaned up unneeded files.                                      <a href=\"file:///content/CPY16S/setup_qiime2.py\"><span style=\"color: #7f7f7f; text-decoration-color: #7f7f7f\">setup_qiime2.py</span></a><span style=\"color: #7f7f7f; text-decoration-color: #7f7f7f\">:</span><a href=\"file:///content/CPY16S/setup_qiime2.py#34\"><span style=\"color: #7f7f7f; text-decoration-color: #7f7f7f\">34</span></a>\n",
              "</pre>\n"
            ],
            "text/plain": [
              "\u001b[2;36m          \u001b[0m\u001b[2;36m \u001b[0mCleaned up unneeded files.                                      \u001b]8;id=650407;file:///content/CPY16S/setup_qiime2.py\u001b\\\u001b[2msetup_qiime2.py\u001b[0m\u001b]8;;\u001b\\\u001b[2m:\u001b[0m\u001b]8;id=851153;file:///content/CPY16S/setup_qiime2.py#34\u001b\\\u001b[2m34\u001b[0m\u001b]8;;\u001b\\\n"
            ]
          },
          "metadata": {}
        },
        {
          "output_type": "display_data",
          "data": {
            "text/html": [
              "<pre style=\"white-space:pre;overflow-x:auto;line-height:normal;font-family:Menlo,'DejaVu Sans Mono',consolas,'Courier New',monospace\"><span style=\"color: #7fbfbf; text-decoration-color: #7fbfbf\">           </span><span style=\"color: #008000; text-decoration-color: #008000\">Everything is A-OK. You can start using Qiime </span><span style=\"color: #008000; text-decoration-color: #008000; font-weight: bold\">2</span><span style=\"color: #008000; text-decoration-color: #008000\"> now 👍</span>         <a href=\"file:///content/CPY16S/setup_qiime2.py\"><span style=\"color: #7f7f7f; text-decoration-color: #7f7f7f\">setup_qiime2.py</span></a><span style=\"color: #7f7f7f; text-decoration-color: #7f7f7f\">:</span><a href=\"file:///content/CPY16S/setup_qiime2.py#113\"><span style=\"color: #7f7f7f; text-decoration-color: #7f7f7f\">113</span></a>\n",
              "</pre>\n"
            ],
            "text/plain": [
              "\u001b[2;36m          \u001b[0m\u001b[2;36m \u001b[0m\u001b[32mEverything is A-OK. You can start using Qiime \u001b[0m\u001b[1;32m2\u001b[0m\u001b[32m now 👍\u001b[0m         \u001b]8;id=347839;file:///content/CPY16S/setup_qiime2.py\u001b\\\u001b[2msetup_qiime2.py\u001b[0m\u001b]8;;\u001b\\\u001b[2m:\u001b[0m\u001b]8;id=731855;file:///content/CPY16S/setup_qiime2.py#113\u001b\\\u001b[2m113\u001b[0m\u001b]8;;\u001b\\\n"
            ]
          },
          "metadata": {}
        }
      ]
    }
  ]
}