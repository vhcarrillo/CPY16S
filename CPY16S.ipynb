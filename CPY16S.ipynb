{
  "nbformat": 4,
  "nbformat_minor": 0,
  "metadata": {
    "colab": {
      "name": "CPY16S",
      "provenance": [],
      "collapsed_sections": [],
      "history_visible": true,
      "include_colab_link": true
    },
    "kernelspec": {
      "name": "python3",
      "display_name": "Python 3"
    },
    "language_info": {
      "name": "python"
    }
  },
  "cells": [
    {
      "cell_type": "markdown",
      "metadata": {
        "id": "view-in-github",
        "colab_type": "text"
      },
      "source": [
        "<a href=\"https://colab.research.google.com/github/vhcarrillo/CPY16S/blob/main/CPY16S.ipynb\" target=\"_parent\"><img src=\"https://colab.research.google.com/assets/colab-badge.svg\" alt=\"Open In Colab\"/></a>"
      ]
    },
    {
      "cell_type": "markdown",
      "source": [
        "This notebook is for the analysis of 16S amplicon sequencing form cenotes in the Yucatan Peninsula\n",
        "\n",
        "Fist, import the dataset from a repo in Github"
      ],
      "metadata": {
        "id": "xJhiP47E2NbZ"
      }
    },
    {
      "cell_type": "code",
      "execution_count": null,
      "metadata": {
        "colab": {
          "base_uri": "https://localhost:8080/"
        },
        "id": "Tvq8KM-Z1tK3",
        "outputId": "1be2ec54-7420-4cba-958d-fe038173483e"
      },
      "outputs": [
        {
          "output_type": "stream",
          "name": "stdout",
          "text": [
            "Cloning into 'CPY16S'...\n",
            "remote: Enumerating objects: 16, done.\u001b[K\n",
            "remote: Counting objects: 100% (3/3), done.\u001b[K\n",
            "remote: Compressing objects: 100% (3/3), done.\u001b[K\n",
            "remote: Total 16 (delta 0), reused 0 (delta 0), pack-reused 13\u001b[K\n",
            "Unpacking objects: 100% (16/16), done.\n"
          ]
        }
      ],
      "source": [
        "!git clone https://github.com/vhcarrillo/CPY16S.git"
      ]
    },
    {
      "cell_type": "markdown",
      "source": [
        "The original files listed in the repo are:"
      ],
      "metadata": {
        "id": "Jn5x-w95IT6d"
      }
    },
    {
      "cell_type": "code",
      "source": [
        "%ls CPY16S/"
      ],
      "metadata": {
        "colab": {
          "base_uri": "https://localhost:8080/"
        },
        "id": "Y0ciEPl3IaVA",
        "outputId": "00a1f110-c35e-467d-c761-e9b1b017359b"
      },
      "execution_count": null,
      "outputs": [
        {
          "output_type": "stream",
          "name": "stdout",
          "text": [
            "CPY16S.ipynb  paper_sep18.ipynb  rep-seqs-cenotes.qza  table-freq-cenotes.qza\n",
            "metadata.tsv  README.md          setup_qiime2.py       table-freq-cenotes.qzv\n"
          ]
        }
      ]
    },
    {
      "cell_type": "markdown",
      "source": [
        "*   metadata.tsv contains the metadata for the sites of study\n",
        "* The raw data were procesed in by Seth in order to combine the files obteined form the sequencer because some samples were sequenced first and the others later. After combined the data, were denoised by dada2 according qiime2 documentation. The artifacts (files) obtained were:\n",
        "  * rep-seqs-cenotes.qza\n",
        "  * table-freq-cenotes.qza\n",
        "  * table-freq-cenotes.qzv\n",
        "\n"
      ],
      "metadata": {
        "id": "oc6K5JANKTjZ"
      }
    },
    {
      "cell_type": "markdown",
      "source": [
        "In the repository is there a file to install qiime2 named setup_qiime2.py got it from https://github.com/Gibbons-Lab/isb_course_2021/blob/main/setup_qiime2"
      ],
      "metadata": {
        "id": "zp3khyaCGoXT"
      }
    },
    {
      "cell_type": "code",
      "source": [
        "%run CPY16S/setup_qiime2.py"
      ],
      "metadata": {
        "colab": {
          "base_uri": "https://localhost:8080/",
          "height": 164
        },
        "id": "smnxa3nXH3_S",
        "outputId": "c400bc53-d553-46dc-9489-f5c5c5658b1d"
      },
      "execution_count": null,
      "outputs": [
        {
          "output_type": "display_data",
          "data": {
            "text/plain": [
              "\u001b[2;36m[15:47:53]\u001b[0m\u001b[2;36m \u001b[0m🐍 Downloading miniconda\u001b[33m...\u001b[0m                                     \u001b]8;id=223601;file:///content/CPY16S/setup_qiime2.py\u001b\\\u001b[2msetup_qiime2.py\u001b[0m\u001b]8;;\u001b\\\u001b[2m:\u001b[0m\u001b]8;id=677887;file:///content/CPY16S/setup_qiime2.py#39\u001b\\\u001b[2m39\u001b[0m\u001b]8;;\u001b\\\n"
            ],
            "text/html": [
              "<pre style=\"white-space:pre;overflow-x:auto;line-height:normal;font-family:Menlo,'DejaVu Sans Mono',consolas,'Courier New',monospace\"><span style=\"color: #7fbfbf; text-decoration-color: #7fbfbf\">[15:47:53] </span>🐍 Downloading miniconda<span style=\"color: #808000; text-decoration-color: #808000\">...</span>                                     <a href=\"file:///content/CPY16S/setup_qiime2.py\" target=\"_blank\"><span style=\"color: #7f7f7f; text-decoration-color: #7f7f7f\">setup_qiime2.py</span></a><span style=\"color: #7f7f7f; text-decoration-color: #7f7f7f\">:</span><a href=\"file:///content/CPY16S/setup_qiime2.py#39\" target=\"_blank\"><span style=\"color: #7f7f7f; text-decoration-color: #7f7f7f\">39</span></a>\n",
              "</pre>\n"
            ]
          },
          "metadata": {}
        },
        {
          "output_type": "display_data",
          "data": {
            "text/plain": [
              "\u001b[2;36m[15:47:54]\u001b[0m\u001b[2;36m \u001b[0m\u001b[34m🐍 Done.\u001b[0m                                                        \u001b]8;id=422090;file:///content/CPY16S/setup_qiime2.py\u001b\\\u001b[2msetup_qiime2.py\u001b[0m\u001b]8;;\u001b\\\u001b[2m:\u001b[0m\u001b]8;id=874317;file:///content/CPY16S/setup_qiime2.py#45\u001b\\\u001b[2m45\u001b[0m\u001b]8;;\u001b\\\n"
            ],
            "text/html": [
              "<pre style=\"white-space:pre;overflow-x:auto;line-height:normal;font-family:Menlo,'DejaVu Sans Mono',consolas,'Courier New',monospace\"><span style=\"color: #7fbfbf; text-decoration-color: #7fbfbf\">[15:47:54] </span><span style=\"color: #000080; text-decoration-color: #000080\">🐍 Done.</span>                                                        <a href=\"file:///content/CPY16S/setup_qiime2.py\" target=\"_blank\"><span style=\"color: #7f7f7f; text-decoration-color: #7f7f7f\">setup_qiime2.py</span></a><span style=\"color: #7f7f7f; text-decoration-color: #7f7f7f\">:</span><a href=\"file:///content/CPY16S/setup_qiime2.py#45\" target=\"_blank\"><span style=\"color: #7f7f7f; text-decoration-color: #7f7f7f\">45</span></a>\n",
              "</pre>\n"
            ]
          },
          "metadata": {}
        },
        {
          "output_type": "display_data",
          "data": {
            "text/plain": [
              "\u001b[2;36m          \u001b[0m\u001b[2;36m \u001b[0m🐍 Installing miniconda\u001b[33m...\u001b[0m                                      \u001b]8;id=112589;file:///content/CPY16S/setup_qiime2.py\u001b\\\u001b[2msetup_qiime2.py\u001b[0m\u001b]8;;\u001b\\\u001b[2m:\u001b[0m\u001b]8;id=275699;file:///content/CPY16S/setup_qiime2.py#39\u001b\\\u001b[2m39\u001b[0m\u001b]8;;\u001b\\\n"
            ],
            "text/html": [
              "<pre style=\"white-space:pre;overflow-x:auto;line-height:normal;font-family:Menlo,'DejaVu Sans Mono',consolas,'Courier New',monospace\"><span style=\"color: #7fbfbf; text-decoration-color: #7fbfbf\">           </span>🐍 Installing miniconda<span style=\"color: #808000; text-decoration-color: #808000\">...</span>                                      <a href=\"file:///content/CPY16S/setup_qiime2.py\" target=\"_blank\"><span style=\"color: #7f7f7f; text-decoration-color: #7f7f7f\">setup_qiime2.py</span></a><span style=\"color: #7f7f7f; text-decoration-color: #7f7f7f\">:</span><a href=\"file:///content/CPY16S/setup_qiime2.py#39\" target=\"_blank\"><span style=\"color: #7f7f7f; text-decoration-color: #7f7f7f\">39</span></a>\n",
              "</pre>\n"
            ]
          },
          "metadata": {}
        },
        {
          "output_type": "display_data",
          "data": {
            "text/plain": [
              "\u001b[2;36m[15:48:15]\u001b[0m\u001b[2;36m \u001b[0m\u001b[34m🐍 Installed miniconda to `\u001b[0m\u001b[34m/usr/\u001b[0m\u001b[34mlocal\u001b[0m\u001b[34m` 🐍\u001b[0m                       \u001b]8;id=257755;file:///content/CPY16S/setup_qiime2.py\u001b\\\u001b[2msetup_qiime2.py\u001b[0m\u001b]8;;\u001b\\\u001b[2m:\u001b[0m\u001b]8;id=163544;file:///content/CPY16S/setup_qiime2.py#45\u001b\\\u001b[2m45\u001b[0m\u001b]8;;\u001b\\\n"
            ],
            "text/html": [
              "<pre style=\"white-space:pre;overflow-x:auto;line-height:normal;font-family:Menlo,'DejaVu Sans Mono',consolas,'Courier New',monospace\"><span style=\"color: #7fbfbf; text-decoration-color: #7fbfbf\">[15:48:15] </span><span style=\"color: #000080; text-decoration-color: #000080\">🐍 Installed miniconda to `/usr/local` 🐍</span>                       <a href=\"file:///content/CPY16S/setup_qiime2.py\" target=\"_blank\"><span style=\"color: #7f7f7f; text-decoration-color: #7f7f7f\">setup_qiime2.py</span></a><span style=\"color: #7f7f7f; text-decoration-color: #7f7f7f\">:</span><a href=\"file:///content/CPY16S/setup_qiime2.py#45\" target=\"_blank\"><span style=\"color: #7f7f7f; text-decoration-color: #7f7f7f\">45</span></a>\n",
              "</pre>\n"
            ]
          },
          "metadata": {}
        },
        {
          "output_type": "display_data",
          "data": {
            "text/plain": [
              "\u001b[2;36m          \u001b[0m\u001b[2;36m \u001b[0m🔍 Downloading Qiime \u001b[1;36m2\u001b[0m package list\u001b[33m...\u001b[0m                          \u001b]8;id=889604;file:///content/CPY16S/setup_qiime2.py\u001b\\\u001b[2msetup_qiime2.py\u001b[0m\u001b]8;;\u001b\\\u001b[2m:\u001b[0m\u001b]8;id=221854;file:///content/CPY16S/setup_qiime2.py#39\u001b\\\u001b[2m39\u001b[0m\u001b]8;;\u001b\\\n"
            ],
            "text/html": [
              "<pre style=\"white-space:pre;overflow-x:auto;line-height:normal;font-family:Menlo,'DejaVu Sans Mono',consolas,'Courier New',monospace\"><span style=\"color: #7fbfbf; text-decoration-color: #7fbfbf\">           </span>🔍 Downloading Qiime <span style=\"color: #008080; text-decoration-color: #008080; font-weight: bold\">2</span> package list<span style=\"color: #808000; text-decoration-color: #808000\">...</span>                          <a href=\"file:///content/CPY16S/setup_qiime2.py\" target=\"_blank\"><span style=\"color: #7f7f7f; text-decoration-color: #7f7f7f\">setup_qiime2.py</span></a><span style=\"color: #7f7f7f; text-decoration-color: #7f7f7f\">:</span><a href=\"file:///content/CPY16S/setup_qiime2.py#39\" target=\"_blank\"><span style=\"color: #7f7f7f; text-decoration-color: #7f7f7f\">39</span></a>\n",
              "</pre>\n"
            ]
          },
          "metadata": {}
        },
        {
          "output_type": "display_data",
          "data": {
            "text/plain": [
              "\u001b[2;36m          \u001b[0m\u001b[2;36m \u001b[0m\u001b[34m🔍 Done.\u001b[0m                                                        \u001b]8;id=30976;file:///content/CPY16S/setup_qiime2.py\u001b\\\u001b[2msetup_qiime2.py\u001b[0m\u001b]8;;\u001b\\\u001b[2m:\u001b[0m\u001b]8;id=462258;file:///content/CPY16S/setup_qiime2.py#45\u001b\\\u001b[2m45\u001b[0m\u001b]8;;\u001b\\\n"
            ],
            "text/html": [
              "<pre style=\"white-space:pre;overflow-x:auto;line-height:normal;font-family:Menlo,'DejaVu Sans Mono',consolas,'Courier New',monospace\"><span style=\"color: #7fbfbf; text-decoration-color: #7fbfbf\">           </span><span style=\"color: #000080; text-decoration-color: #000080\">🔍 Done.</span>                                                        <a href=\"file:///content/CPY16S/setup_qiime2.py\" target=\"_blank\"><span style=\"color: #7f7f7f; text-decoration-color: #7f7f7f\">setup_qiime2.py</span></a><span style=\"color: #7f7f7f; text-decoration-color: #7f7f7f\">:</span><a href=\"file:///content/CPY16S/setup_qiime2.py#45\" target=\"_blank\"><span style=\"color: #7f7f7f; text-decoration-color: #7f7f7f\">45</span></a>\n",
              "</pre>\n"
            ]
          },
          "metadata": {}
        },
        {
          "output_type": "display_data",
          "data": {
            "text/plain": [
              "\u001b[2;36m          \u001b[0m\u001b[2;36m \u001b[0m🔍 Installing Qiime \u001b[1;36m2\u001b[0m. This may take a little bit.              \u001b]8;id=914520;file:///content/CPY16S/setup_qiime2.py\u001b\\\u001b[2msetup_qiime2.py\u001b[0m\u001b]8;;\u001b\\\u001b[2m:\u001b[0m\u001b]8;id=215377;file:///content/CPY16S/setup_qiime2.py#39\u001b\\\u001b[2m39\u001b[0m\u001b]8;;\u001b\\\n",
              "\u001b[2;36m           \u001b[0m 🕐                                                             \u001b[2m                  \u001b[0m\n"
            ],
            "text/html": [
              "<pre style=\"white-space:pre;overflow-x:auto;line-height:normal;font-family:Menlo,'DejaVu Sans Mono',consolas,'Courier New',monospace\"><span style=\"color: #7fbfbf; text-decoration-color: #7fbfbf\">           </span>🔍 Installing Qiime <span style=\"color: #008080; text-decoration-color: #008080; font-weight: bold\">2</span>. This may take a little bit.              <a href=\"file:///content/CPY16S/setup_qiime2.py\" target=\"_blank\"><span style=\"color: #7f7f7f; text-decoration-color: #7f7f7f\">setup_qiime2.py</span></a><span style=\"color: #7f7f7f; text-decoration-color: #7f7f7f\">:</span><a href=\"file:///content/CPY16S/setup_qiime2.py#39\" target=\"_blank\"><span style=\"color: #7f7f7f; text-decoration-color: #7f7f7f\">39</span></a>\n",
              "<span style=\"color: #7fbfbf; text-decoration-color: #7fbfbf\">           </span> 🕐                                                             <span style=\"color: #7f7f7f; text-decoration-color: #7f7f7f\">                  </span>\n",
              "</pre>\n"
            ]
          },
          "metadata": {}
        }
      ]
    },
    {
      "cell_type": "markdown",
      "source": [
        "As the artifacts have have all the samples sequenced and in three of them there are no sequences it will remove.\n",
        "\n",
        "| Sample ID |\tSequence Count |\n",
        "| --------- | -------------- |\n",
        "| YB03 |\t60,504 |\n",
        "| YB08 |\t44,902 |\n",
        "| YBO4 |\t43,221 |\n",
        "| YB13 |\t41,795 |\n",
        "| MX.01 |\t23,095 |\n",
        "| MX.02\t| 16 |\n",
        "| YB05 |\t12 |\n",
        "| MX.04 |\t0 |"
      ],
      "metadata": {
        "id": "iKF3Utnrlauu"
      }
    },
    {
      "cell_type": "code",
      "source": [
        "!qiime feature-table filter-samples \\\n",
        "  --i-table CPY16S/table-freq-cenotes.qza \\\n",
        "  --m-metadata-file CPY16S/metadata.tsv \\\n",
        "  --o-filtered-table CPY16S/sites_filtered/table-freq-cpy16s.qza"
      ],
      "metadata": {
        "colab": {
          "base_uri": "https://localhost:8080/"
        },
        "id": "x3Vhj-8hi32E",
        "outputId": "074d7a95-f918-41bb-8c62-74f4a9fff99c"
      },
      "execution_count": null,
      "outputs": [
        {
          "output_type": "stream",
          "name": "stdout",
          "text": [
            "/bin/bash: qiime: command not found\n"
          ]
        }
      ]
    },
    {
      "cell_type": "markdown",
      "source": [
        "Now, the sites with few sequences (MX.02, YB05 and MX.04) were removed. Let's create a visualization artifact to confirm that"
      ],
      "metadata": {
        "id": "vzjA3pn-aGZh"
      }
    },
    {
      "cell_type": "code",
      "source": [
        "!qiime feature-table summarize \\\n",
        "  --i-table CPY16S/sites_filtered/table-freq-cpy16s.qza\\\n",
        "  --o-visualization CPY16S/sites_filtered//table-freq-tes-cpy16s.qzv \\\n",
        "  --m-sample-metadata-file CPY16S/metadata.tsv"
      ],
      "metadata": {
        "colab": {
          "base_uri": "https://localhost:8080/"
        },
        "id": "F8jQT-Owajrg",
        "outputId": "15ba2bea-8b09-465c-a672-858f7c675561"
      },
      "execution_count": null,
      "outputs": [
        {
          "output_type": "stream",
          "name": "stdout",
          "text": [
            "/bin/bash: qiime: command not found\n"
          ]
        }
      ]
    },
    {
      "cell_type": "markdown",
      "source": [
        "Confirmed the sites removed, the sequences will remove too"
      ],
      "metadata": {
        "id": "7QJKmrNtbdjZ"
      }
    },
    {
      "cell_type": "code",
      "source": [
        "!qiime feature-table filter-seqs \\\n",
        "  --i-data CPY16S/rep-seqs-cenotes.qza \\\n",
        "  --i-table CPY16S/sites_filtered/table-freq-cpy16s.qza \\\n",
        "  --o-filtered-data CPY16S/sites_filtered/rep-seqs-cpy16s.qza"
      ],
      "metadata": {
        "colab": {
          "base_uri": "https://localhost:8080/"
        },
        "id": "ixaY06CZbrnO",
        "outputId": "4d93a0f9-615c-4aae-f467-aff84eadb872"
      },
      "execution_count": null,
      "outputs": [
        {
          "output_type": "stream",
          "name": "stdout",
          "text": [
            "/bin/bash: qiime: command not found\n"
          ]
        }
      ]
    },
    {
      "cell_type": "markdown",
      "source": [
        "and tabulate the sequences"
      ],
      "metadata": {
        "id": "WLHFSn1qkX2Y"
      }
    },
    {
      "cell_type": "code",
      "source": [
        "!qiime feature-table tabulate-seqs \\\n",
        "  --i-data CPY16S/sites_filtered/rep-seqs-cpy16s.qza \\\n",
        "  --o-visualization CPY16S/sites_filtered/rep-seqs-cpy16s.qzv"
      ],
      "metadata": {
        "colab": {
          "base_uri": "https://localhost:8080/"
        },
        "id": "8JnM2oFQkd2e",
        "outputId": "2bef4a13-c877-4689-8077-b190da80d425"
      },
      "execution_count": null,
      "outputs": [
        {
          "output_type": "stream",
          "name": "stdout",
          "text": [
            "/bin/bash: qiime: command not found\n"
          ]
        }
      ]
    },
    {
      "cell_type": "markdown",
      "source": [
        "__Phylogenetic diversity analyses__\n",
        "\n",
        "building a phylogenetic tree"
      ],
      "metadata": {
        "id": "s63q3nl9ociC"
      }
    },
    {
      "cell_type": "code",
      "source": [
        "!qiime phylogeny align-to-tree-mafft-fasttree \\\n",
        "    --i-sequences CPY16S/sites_filtered/rep-seqs-cpy16s.qza \\\n",
        "    --output-dir CPY16S/tree"
      ],
      "metadata": {
        "colab": {
          "base_uri": "https://localhost:8080/"
        },
        "id": "rZUexk3mpBZa",
        "outputId": "9535ab1c-4d1d-440e-acca-4dd20458609d"
      },
      "execution_count": null,
      "outputs": [
        {
          "output_type": "stream",
          "name": "stdout",
          "text": [
            "/bin/bash: qiime: command not found\n"
          ]
        }
      ]
    },
    {
      "cell_type": "markdown",
      "source": [
        "Alpha and Beta Diversity"
      ],
      "metadata": {
        "id": "G_-05L4by5Fj"
      }
    },
    {
      "cell_type": "code",
      "source": [
        "!qiime diversity core-metrics-phylogenetic \\\n",
        "    --i-table CPY16S/sites_filtered/table-freq-cpy16s.qza \\\n",
        "    --i-phylogeny CPY16S/tree/rooted_tree.qza \\\n",
        "    --p-sampling-depth 23094 \\\n",
        "    --m-metadata-file CPY16S/metadata.tsv \\\n",
        "    --output-dir CPY16S/diversity"
      ],
      "metadata": {
        "colab": {
          "base_uri": "https://localhost:8080/"
        },
        "id": "vNOdmwqtqKM9",
        "outputId": "4af940bc-0735-4f79-ad4c-8d1de3027c56"
      },
      "execution_count": null,
      "outputs": [
        {
          "output_type": "stream",
          "name": "stdout",
          "text": [
            "/bin/bash: qiime: command not found\n"
          ]
        }
      ]
    },
    {
      "cell_type": "markdown",
      "source": [
        "**Taxonomy Analisys**\n",
        "\n",
        "We will use a Bayes classifier trained on the GreenGenes database which can be downloaded from:\n",
        "https://data.qiime2.org/2021.11/common/silva-138-99-515-806-nb-classifier.qza"
      ],
      "metadata": {
        "id": "O6QL3R-0C_1V"
      }
    },
    {
      "cell_type": "code",
      "source": [
        "!wget https://data.qiime2.org/2021.11/common/silva-138-99-515-806-nb-classifier.qza"
      ],
      "metadata": {
        "colab": {
          "base_uri": "https://localhost:8080/"
        },
        "id": "OLEK7--aCqaG",
        "outputId": "53837a05-7bb1-4dbd-889f-8918989e45a3"
      },
      "execution_count": null,
      "outputs": [
        {
          "output_type": "stream",
          "name": "stdout",
          "text": [
            "--2022-04-27 17:46:30--  https://data.qiime2.org/2021.11/common/silva-138-99-515-806-nb-classifier.qza\n",
            "Resolving data.qiime2.org (data.qiime2.org)... 54.200.1.12\n",
            "Connecting to data.qiime2.org (data.qiime2.org)|54.200.1.12|:443... connected.\n",
            "HTTP request sent, awaiting response... 302 FOUND\n",
            "Location: https://s3-us-west-2.amazonaws.com/qiime2-data/2021.11/common/silva-138-99-515-806-nb-classifier.qza [following]\n",
            "--2022-04-27 17:46:31--  https://s3-us-west-2.amazonaws.com/qiime2-data/2021.11/common/silva-138-99-515-806-nb-classifier.qza\n",
            "Resolving s3-us-west-2.amazonaws.com (s3-us-west-2.amazonaws.com)... 52.218.233.96\n",
            "Connecting to s3-us-west-2.amazonaws.com (s3-us-west-2.amazonaws.com)|52.218.233.96|:443... connected.\n",
            "HTTP request sent, awaiting response... 200 OK\n",
            "Length: 148294965 (141M) [binary/octet-stream]\n",
            "Saving to: ‘silva-138-99-515-806-nb-classifier.qza’\n",
            "\n",
            "silva-138-99-515-80 100%[===================>] 141.42M  41.8MB/s    in 3.4s    \n",
            "\n",
            "2022-04-27 17:46:34 (41.8 MB/s) - ‘silva-138-99-515-806-nb-classifier.qza’ saved [148294965/148294965]\n",
            "\n"
          ]
        }
      ]
    },
    {
      "cell_type": "code",
      "source": [
        "!qiime feature-classifier classify-sklearn \\\n",
        "    --i-reads CPY16S/sites_filtered/rep-seqs-cpy16s.qza \\\n",
        "    --i-classifier silva-138-99-515-806-nb-classifier.qza \\\n",
        "    --o-classification CPY16S/taxonomy/taxa-cpy16s.qza"
      ],
      "metadata": {
        "colab": {
          "base_uri": "https://localhost:8080/"
        },
        "id": "evmN8nxZDlGz",
        "outputId": "823b4206-4ee8-4a0d-eab9-08381d3d69d5"
      },
      "execution_count": null,
      "outputs": [
        {
          "output_type": "stream",
          "name": "stdout",
          "text": [
            "/bin/bash: qiime: command not found\n"
          ]
        }
      ]
    },
    {
      "cell_type": "markdown",
      "source": [
        "Now let's have a look at the relative abundances of the different bacterial taxa we have in each sample:"
      ],
      "metadata": {
        "id": "p0h9AbODG6sq"
      }
    },
    {
      "cell_type": "code",
      "source": [
        "!qiime taxa barplot \\\n",
        "    --i-table dada2/table.qza \\\n",
        "    --i-taxonomy taxa.qza \\\n",
        "    --m-metadata-file metadata.tsv \\\n",
        "    --o-visualization taxa_barplot.qzv"
      ],
      "metadata": {
        "id": "4bd_e4RrHFGK",
        "colab": {
          "base_uri": "https://localhost:8080/"
        },
        "outputId": "e567ea7c-1df5-4ef5-84e5-eec08446fa8d"
      },
      "execution_count": null,
      "outputs": [
        {
          "output_type": "stream",
          "name": "stdout",
          "text": [
            "/bin/bash: qiime: command not found\n"
          ]
        }
      ]
    },
    {
      "cell_type": "code",
      "source": [
        "import sklearn\n",
        "sklearn.__version__\n",
        "sklearn.show_versions()"
      ],
      "metadata": {
        "colab": {
          "base_uri": "https://localhost:8080/"
        },
        "id": "IhGgn8KGMop9",
        "outputId": "88b6ab45-daeb-4429-e486-62cb10528399"
      },
      "execution_count": null,
      "outputs": [
        {
          "output_type": "stream",
          "name": "stdout",
          "text": [
            "\n",
            "System:\n",
            "    python: 3.7.13 (default, Apr 24 2022, 01:04:09)  [GCC 7.5.0]\n",
            "executable: /usr/bin/python3\n",
            "   machine: Linux-5.4.144+-x86_64-with-Ubuntu-18.04-bionic\n",
            "\n",
            "Python dependencies:\n",
            "          pip: 21.1.3\n",
            "   setuptools: 57.4.0\n",
            "      sklearn: 1.0.2\n",
            "        numpy: 1.21.6\n",
            "        scipy: 1.4.1\n",
            "       Cython: 0.29.28\n",
            "       pandas: 1.3.5\n",
            "   matplotlib: 3.2.2\n",
            "       joblib: 1.1.0\n",
            "threadpoolctl: 3.1.0\n",
            "\n",
            "Built with OpenMP: True\n"
          ]
        }
      ]
    },
    {
      "cell_type": "markdown",
      "source": [
        "The scikit-learn version (0.24.1) used to generate this artifact does not match the current version of scikit-learn installed (0.22.1)."
      ],
      "metadata": {
        "id": "h1AULLUvNCXE"
      }
    }
  ]
}