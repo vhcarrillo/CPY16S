{
 "cells": [
  {
   "cell_type": "markdown",
   "metadata": {},
   "source": [
    "Sequence was taken from two difernt files then was merged into, the sequences were denoised by dada2 and calssified by the classfier based in silva 132 database provided by qiime2 documentation"
   ]
  },
  {
   "cell_type": "code",
   "execution_count": 4,
   "metadata": {},
   "outputs": [
    {
     "name": "stdout",
     "output_type": "stream",
     "text": [
      "\u001b[0m\u001b[01;32mmetadata.tsv\u001b[0m       rep-seqs-cenotes.qza    table-freq-cenotes.qzv\n",
      "paper_sep18.ipynb  table-freq-cenotes.qza  \u001b[01;32mtaxonomy-cenotes.qza\u001b[0m\n"
     ]
    }
   ],
   "source": [
    "ls"
   ]
  },
  {
   "cell_type": "code",
   "execution_count": 1,
   "metadata": {},
   "outputs": [
    {
     "name": "stdout",
     "output_type": "stream",
     "text": [
      "\u001b[32mSaved Visualization to: rep-seqs-cenotes.qzv\u001b[0m\n"
     ]
    }
   ],
   "source": [
    "qiime feature-table tabulate-seqs \\\n",
    "  --i-data rep-seqs-cenotes.qza \\\n",
    "  --o-visualization rep-seqs-cenotes.qzv"
   ]
  },
  {
   "cell_type": "code",
   "execution_count": 6,
   "metadata": {},
   "outputs": [
    {
     "name": "stdout",
     "output_type": "stream",
     "text": [
      "\u001b[32mSaved Visualization to: taxonomy-cenotes.qzv\u001b[0m\n"
     ]
    }
   ],
   "source": [
    "qiime taxa barplot \\\n",
    "  --i-table table-freq-cenotes.qza \\\n",
    "  --i-taxonomy taxonomy-cenotes.qza \\\n",
    "  --m-metadata-file metadata.tsv \\\n",
    "  --o-visualization taxonomy-cenotes.qzv"
   ]
  },
  {
   "cell_type": "code",
   "execution_count": 1,
   "metadata": {},
   "outputs": [
    {
     "name": "stdout",
     "output_type": "stream",
     "text": [
      "\u001b[32mSaved FeatureData[AlignedSequence] to: aligned_cenotes.qza\u001b[0m\n"
     ]
    }
   ],
   "source": [
    "qiime alignment mafft \\\n",
    "  --i-sequences rep-seqs-cenotes.qza \\\n",
    "  --o-alignment aligned_cenotes.qza"
   ]
  },
  {
   "cell_type": "code",
   "execution_count": 2,
   "metadata": {},
   "outputs": [
    {
     "name": "stdout",
     "output_type": "stream",
     "text": [
      "\u001b[32mSaved FeatureData[AlignedSequence] to: masked-cenotes.qza\u001b[0m\n"
     ]
    }
   ],
   "source": [
    "qiime alignment mask \\\n",
    "  --i-alignment aligned_cenotes.qza \\\n",
    "  --o-masked-alignment masked-cenotes.qza"
   ]
  },
  {
   "cell_type": "code",
   "execution_count": 3,
   "metadata": {},
   "outputs": [
    {
     "name": "stdout",
     "output_type": "stream",
     "text": [
      "\u001b[32mSaved Phylogeny[Unrooted] to: unrooted-tree-cenotes.qza\u001b[0m\n"
     ]
    }
   ],
   "source": [
    "qiime phylogeny fasttree \\\n",
    "  --i-alignment masked-cenotes.qza \\\n",
    "  --o-tree unrooted-tree-cenotes.qza"
   ]
  },
  {
   "cell_type": "code",
   "execution_count": 4,
   "metadata": {},
   "outputs": [
    {
     "name": "stdout",
     "output_type": "stream",
     "text": [
      "\u001b[32mSaved Phylogeny[Rooted] to: rooted-tree-cenotes.qza\u001b[0m\n"
     ]
    }
   ],
   "source": [
    "qiime phylogeny midpoint-root \\\n",
    "  --i-tree unrooted-tree-cenotes.qza \\\n",
    "  --o-rooted-tree rooted-tree-cenotes.qza"
   ]
  },
  {
   "cell_type": "code",
   "execution_count": 5,
   "metadata": {},
   "outputs": [
    {
     "name": "stdout",
     "output_type": "stream",
     "text": [
      "\u001b[32mSaved FeatureTable[Frequency] to: core-metrics-results/rarefied_table.qza\u001b[0m\n",
      "\u001b[32mSaved SampleData[AlphaDiversity] % Properties(['phylogenetic']) to: core-metrics-results/faith_pd_vector.qza\u001b[0m\n",
      "\u001b[32mSaved SampleData[AlphaDiversity] to: core-metrics-results/observed_otus_vector.qza\u001b[0m\n",
      "\u001b[32mSaved SampleData[AlphaDiversity] to: core-metrics-results/shannon_vector.qza\u001b[0m\n",
      "\u001b[32mSaved SampleData[AlphaDiversity] to: core-metrics-results/evenness_vector.qza\u001b[0m\n",
      "\u001b[32mSaved DistanceMatrix % Properties(['phylogenetic']) to: core-metrics-results/unweighted_unifrac_distance_matrix.qza\u001b[0m\n",
      "\u001b[32mSaved DistanceMatrix % Properties(['phylogenetic']) to: core-metrics-results/weighted_unifrac_distance_matrix.qza\u001b[0m\n",
      "\u001b[32mSaved DistanceMatrix to: core-metrics-results/jaccard_distance_matrix.qza\u001b[0m\n",
      "\u001b[32mSaved DistanceMatrix to: core-metrics-results/bray_curtis_distance_matrix.qza\u001b[0m\n",
      "\u001b[32mSaved PCoAResults to: core-metrics-results/unweighted_unifrac_pcoa_results.qza\u001b[0m\n",
      "\u001b[32mSaved PCoAResults to: core-metrics-results/weighted_unifrac_pcoa_results.qza\u001b[0m\n",
      "\u001b[32mSaved PCoAResults to: core-metrics-results/jaccard_pcoa_results.qza\u001b[0m\n",
      "\u001b[32mSaved PCoAResults to: core-metrics-results/bray_curtis_pcoa_results.qza\u001b[0m\n",
      "\u001b[32mSaved Visualization to: core-metrics-results/unweighted_unifrac_emperor.qzv\u001b[0m\n",
      "\u001b[32mSaved Visualization to: core-metrics-results/weighted_unifrac_emperor.qzv\u001b[0m\n",
      "\u001b[32mSaved Visualization to: core-metrics-results/jaccard_emperor.qzv\u001b[0m\n",
      "\u001b[32mSaved Visualization to: core-metrics-results/bray_curtis_emperor.qzv\u001b[0m\n"
     ]
    }
   ],
   "source": [
    "qiime diversity core-metrics-phylogenetic \\\n",
    "  --i-phylogeny rooted-tree-cenotes.qza \\\n",
    "  --i-table table-freq-cenotes.qza \\\n",
    "  --p-sampling-depth 23095 \\\n",
    "  --m-metadata-file metadata.tsv \\\n",
    "  --output-dir core-metrics-results"
   ]
  },
  {
   "cell_type": "code",
   "execution_count": 16,
   "metadata": {},
   "outputs": [
    {
     "name": "stdout",
     "output_type": "stream",
     "text": [
      "\u001b[32mSaved FeatureTable[Frequency] to: table-freq-cenotes-final.qza\u001b[0m\n"
     ]
    }
   ],
   "source": [
    "qiime feature-table filter-samples \\\n",
    "  --i-table table-freq-cenotes.qza \\\n",
    "  --m-metadata-file metadata.tsv \\\n",
    "  --o-filtered-table table-freq-cenotes-final.qza"
   ]
  },
  {
   "cell_type": "code",
   "execution_count": 17,
   "metadata": {},
   "outputs": [
    {
     "name": "stdout",
     "output_type": "stream",
     "text": [
      "\u001b[32mSaved Visualization to: table-freq-cenotes-final.qzv\u001b[0m\n"
     ]
    }
   ],
   "source": [
    "qiime feature-table summarize \\\n",
    "  --i-table table-freq-cenotes-final.qza\\\n",
    "  --o-visualization table-freq-cenotes-final.qzv \\\n",
    "  --m-sample-metadata-file metadata.tsv"
   ]
  },
  {
   "cell_type": "code",
   "execution_count": 3,
   "metadata": {},
   "outputs": [
    {
     "name": "stdout",
     "output_type": "stream",
     "text": [
      "\u001b[32mSaved FeatureData[Sequence] to: rep-seqs-cenotes-final.qza\u001b[0m\n"
     ]
    }
   ],
   "source": [
    "qiime feature-table filter-seqs \\\n",
    "  --i-data rep-seqs-cenotes.qza \\\n",
    "  --i-table table-freq-cenotes-final.qza \\\n",
    "  --o-filtered-data rep-seqs-cenotes-final.qza"
   ]
  },
  {
   "cell_type": "code",
   "execution_count": 4,
   "metadata": {},
   "outputs": [
    {
     "name": "stdout",
     "output_type": "stream",
     "text": [
      "\u001b[32mSaved Visualization to: rep-seqs-cenotes-final.qzv\u001b[0m\n"
     ]
    }
   ],
   "source": [
    "qiime feature-table tabulate-seqs \\\n",
    "  --i-data rep-seqs-cenotes-final.qza \\\n",
    "  --o-visualization rep-seqs-cenotes-final.qzv"
   ]
  },
  {
   "cell_type": "code",
   "execution_count": 7,
   "metadata": {},
   "outputs": [
    {
     "name": "stdout",
     "output_type": "stream",
     "text": [
      "\u001b[32mSaved FeatureTable[PresenceAbsence] to: table-presen-abs-cenotes-final.qza\u001b[0m\n"
     ]
    }
   ],
   "source": [
    "qiime feature-table presence-absence \\\n",
    "  --i-table table-freq-cenotes-final.qza \\\n",
    "  --o-presence-absence-table table-presen-abs-cenotes-final.qza"
   ]
  },
  {
   "cell_type": "code",
   "execution_count": 8,
   "metadata": {},
   "outputs": [
    {
     "name": "stdout",
     "output_type": "stream",
     "text": [
      "\u001b[32mSaved Visualization to: table-presen-abs-cenotes-final.qzv\u001b[0m\n"
     ]
    }
   ],
   "source": [
    "qiime feature-table summarize \\\n",
    "  --i-table table-presen-abs-cenotes-final.qza\\\n",
    "  --o-visualization table-presen-abs-cenotes-final.qzv \\\n",
    "  --m-sample-metadata-file metadata.tsv"
   ]
  },
  {
   "cell_type": "code",
   "execution_count": 9,
   "metadata": {},
   "outputs": [
    {
     "name": "stdout",
     "output_type": "stream",
     "text": [
      "\u001b[32mSaved FeatureTable[RelativeFrequency] to: table-relative-freq-cenotes-final.qza\u001b[0m\n"
     ]
    }
   ],
   "source": [
    "qiime feature-table relative-frequency \\\n",
    "  --i-table table-freq-cenotes-final.qza \\\n",
    "  --o-relative-frequency-table table-relative-freq-cenotes-final.qza"
   ]
  },
  {
   "cell_type": "code",
   "execution_count": 10,
   "metadata": {},
   "outputs": [
    {
     "name": "stdout",
     "output_type": "stream",
     "text": [
      "\u001b[32mSaved Visualization to: table-relative-freq-cenotes-final.qzv\u001b[0m\n"
     ]
    }
   ],
   "source": [
    "qiime feature-table summarize \\\n",
    "  --i-table table-relative-freq-cenotes-final.qza \\\n",
    "  --o-visualization table-relative-freq-cenotes-final.qzv \\\n",
    "  --m-sample-metadata-file metadata.tsv"
   ]
  },
  {
   "cell_type": "code",
   "execution_count": 18,
   "metadata": {},
   "outputs": [
    {
     "name": "stdout",
     "output_type": "stream",
     "text": [
      "\u001b[32mSaved Visualization to: taxonomy-cenotes.qzv\u001b[0m\n"
     ]
    }
   ],
   "source": [
    "qiime taxa barplot \\\n",
    "  --i-table table-freq-cenotes-final.qza \\\n",
    "  --i-taxonomy taxonomy-cenotes.qza \\\n",
    "  --m-metadata-file metadata.tsv \\\n",
    "  --o-visualization taxonomy-cenotes.qzv"
   ]
  },
  {
   "cell_type": "code",
   "execution_count": 19,
   "metadata": {},
   "outputs": [
    {
     "name": "stdout",
     "output_type": "stream",
     "text": [
      "\u001b[32mSaved Visualization to: alpha-rarefaction.qzv\u001b[0m\n"
     ]
    }
   ],
   "source": [
    "qiime diversity alpha-rarefaction \\\n",
    "  --i-table table-freq-cenotes-final.qza \\\n",
    "  --i-phylogeny rooted-tree-cenotes.qza \\\n",
    "  --p-max-depth 23095 \\\n",
    "  --m-metadata-file metadata.tsv \\\n",
    "  --o-visualization alpha-rarefaction.qzv"
   ]
  },
  {
   "cell_type": "code",
   "execution_count": 21,
   "metadata": {},
   "outputs": [
    {
     "name": "stdout",
     "output_type": "stream",
     "text": [
      "\u001b[32mSaved Visualization to: tabulate/tabulated-faith-pd-metadata.qzv\u001b[0m\n"
     ]
    }
   ],
   "source": [
    "mkdir tabulate\n",
    "qiime metadata tabulate \\\n",
    "  --m-input-file core-metrics-results/faith_pd_vector.qza \\\n",
    "  --o-visualization tabulate/tabulated-faith-pd-metadata.qzv"
   ]
  },
  {
   "cell_type": "code",
   "execution_count": 27,
   "metadata": {},
   "outputs": [
    {
     "name": "stdout",
     "output_type": "stream",
     "text": [
      "\u001b[32mSaved SampleData[AlphaDiversity] to: core-metrics-results/chao1-cenotes.qza\u001b[0m\n"
     ]
    }
   ],
   "source": [
    "qiime diversity alpha \\\n",
    "  --i-table table-freq-cenotes-final.qza \\\n",
    "  --p-metric chao1 \\\n",
    "  --o-alpha-diversity core-metrics-results/chao1-cenotes.qza"
   ]
  },
  {
   "cell_type": "code",
   "execution_count": 29,
   "metadata": {},
   "outputs": [
    {
     "name": "stdout",
     "output_type": "stream",
     "text": [
      "\u001b[32mSaved Visualization to: tabulate/tabulated-combined-alpha-diversity-metadata.qzv\u001b[0m\n"
     ]
    }
   ],
   "source": [
    "qiime metadata tabulate \\\n",
    "  --m-input-file metadata.tsv \\\n",
    "  --m-input-file core-metrics-results/observed_otus_vector.qza \\\n",
    "  --m-input-file core-metrics-results/shannon_vector.qza \\\n",
    "  --m-input-file core-metrics-results/evenness_vector.qza \\\n",
    "  --m-input-file core-metrics-results/chao1-cenotes.qza \\\n",
    "  --m-input-file core-metrics-results/faith_pd_vector.qza \\\n",
    "  --o-visualization tabulate/tabulated-combined-alpha-diversity-metadata.qzv"
   ]
  },
  {
   "cell_type": "markdown",
   "metadata": {},
   "source": [
    "__core features__"
   ]
  },
  {
   "cell_type": "code",
   "execution_count": 32,
   "metadata": {},
   "outputs": [
    {
     "name": "stdout",
     "output_type": "stream",
     "text": [
      "\u001b[32mSaved Visualization to: features/visualization.qzv\u001b[0m\n"
     ]
    }
   ],
   "source": [
    "qiime feature-table core-features \\\n",
    "  --i-table table-freq-cenotes-final.qza \\\n",
    "  --output-dir features"
   ]
  },
  {
   "cell_type": "code",
   "execution_count": 15,
   "metadata": {},
   "outputs": [
    {
     "name": "stdout",
     "output_type": "stream",
     "text": [
      "\u001b[32mSaved FeatureTable[Frequency] to: core-metrics-results/table-freq-cenotes-final-collapsed.qza\u001b[0m\n"
     ]
    }
   ],
   "source": [
    "qiime taxa collapse \\\n",
    "  --i-table table-freq-cenotes-final.qza \\\n",
    "  --i-taxonomy taxonomy-cenotes.qza \\\n",
    "  --p-level 6 \\\n",
    "  --o-collapsed-table core-metrics-results/table-freq-cenotes-final-collapsed.qza"
   ]
  },
  {
   "cell_type": "code",
   "execution_count": 16,
   "metadata": {},
   "outputs": [
    {
     "name": "stdout",
     "output_type": "stream",
     "text": [
      "\u001b[32mSaved Visualization to: features/visualization-collapsed.qzv/visualization.qzv\u001b[0m\n"
     ]
    }
   ],
   "source": [
    "qiime feature-table core-features \\\n",
    "  --i-table core-metrics-results/table-freq-cenotes-final-collapsed.qza \\\n",
    "  --output-dir features/visualization-collapsed.qzv"
   ]
  },
  {
   "cell_type": "code",
   "execution_count": 17,
   "metadata": {},
   "outputs": [
    {
     "name": "stdout",
     "output_type": "stream",
     "text": [
      "\u001b[32mSaved FeatureTable[Frequency] to: features/table-freq-cenotes-final-collapsed-level7.qza\u001b[0m\n",
      "\u001b[32mSaved Visualization to: features/visualization-collapsed/visualization.qzv\u001b[0m\n"
     ]
    }
   ],
   "source": [
    "qiime taxa collapse \\\n",
    "  --i-table table-freq-cenotes-final.qza \\\n",
    "  --i-taxonomy taxonomy-cenotes.qza \\\n",
    "  --p-level 7 \\\n",
    "  --o-collapsed-table features/table-freq-cenotes-final-collapsed-level7.qza\n",
    "qiime feature-table core-features \\\n",
    "  --i-table features/table-freq-cenotes-final-collapsed-level7.qza \\\n",
    "  --output-dir features/visualization-collapsed"
   ]
  },
  {
   "cell_type": "code",
   "execution_count": 4,
   "metadata": {},
   "outputs": [],
   "source": [
    "qiime tools export \\\n",
    "    table-freq-cenotes-final.qza \\\n",
    "  --output-dir exported"
   ]
  },
  {
   "cell_type": "code",
   "execution_count": 6,
   "metadata": {},
   "outputs": [],
   "source": [
    "qiime tools export \\\n",
    "unrooted-tree-cenotes.qza \\\n",
    " --output-dir exported"
   ]
  },
  {
   "cell_type": "code",
   "execution_count": 5,
   "metadata": {},
   "outputs": [
    {
     "name": "stdout",
     "output_type": "stream",
     "text": [
      "/home/victorhugo/anaconda3/lib/python3.6/importlib/_bootstrap.py:219: RuntimeWarning: numpy.dtype size changed, may indicate binary incompatibility. Expected 96, got 88\n",
      "  return f(*args, **kwds)\n",
      "/home/victorhugo/anaconda3/lib/python3.6/importlib/_bootstrap.py:219: RuntimeWarning: numpy.dtype size changed, may indicate binary incompatibility. Expected 96, got 88\n",
      "  return f(*args, **kwds)\n",
      "/home/victorhugo/anaconda3/lib/python3.6/importlib/_bootstrap.py:219: RuntimeWarning: numpy.dtype size changed, may indicate binary incompatibility. Expected 96, got 88\n",
      "  return f(*args, **kwds)\n",
      "/home/victorhugo/anaconda3/lib/python3.6/site-packages/h5py/__init__.py:36: FutureWarning: Conversion of the second argument of issubdtype from `float` to `np.floating` is deprecated. In future, it will be treated as `np.float64 == np.dtype(float).type`.\n",
      "  from ._conv import register_converters as _register_converters\n",
      "Usage: biom convert [OPTIONS]\n",
      "\n",
      "Error: Invalid value for \"-i\" / \"--input-fp\": Path \"/exported/feature-table.biom\" does not exist.\n"
     ]
    },
    {
     "ename": "",
     "evalue": "2",
     "output_type": "error",
     "traceback": []
    }
   ],
   "source": [
    "biom convert -i ~/Dropbox/exported/feature-table.biom -o /exported/feature-table.txt -m metadata.tsv --to-tsv"
   ]
  },
  {
   "cell_type": "code",
   "execution_count": 6,
   "metadata": {},
   "outputs": [
    {
     "name": "stdout",
     "output_type": "stream",
     "text": [
      "feature-table.biom  tree.nwk\n"
     ]
    }
   ],
   "source": [
    "cd exported\n",
    "ls"
   ]
  },
  {
   "cell_type": "code",
   "execution_count": 8,
   "metadata": {},
   "outputs": [
    {
     "name": "stdout",
     "output_type": "stream",
     "text": [
      "/home/victorhugo/anaconda3/lib/python3.6/importlib/_bootstrap.py:219: RuntimeWarning: numpy.dtype size changed, may indicate binary incompatibility. Expected 96, got 88\n",
      "  return f(*args, **kwds)\n",
      "/home/victorhugo/anaconda3/lib/python3.6/importlib/_bootstrap.py:219: RuntimeWarning: numpy.dtype size changed, may indicate binary incompatibility. Expected 96, got 88\n",
      "  return f(*args, **kwds)\n",
      "/home/victorhugo/anaconda3/lib/python3.6/importlib/_bootstrap.py:219: RuntimeWarning: numpy.dtype size changed, may indicate binary incompatibility. Expected 96, got 88\n",
      "  return f(*args, **kwds)\n",
      "/home/victorhugo/anaconda3/lib/python3.6/site-packages/h5py/__init__.py:36: FutureWarning: Conversion of the second argument of issubdtype from `float` to `np.floating` is deprecated. In future, it will be treated as `np.float64 == np.dtype(float).type`.\n",
      "  from ._conv import register_converters as _register_converters\n"
     ]
    }
   ],
   "source": [
    "biom convert -i feature-table.biom -o feature-table.txt --to-tsv"
   ]
  },
  {
   "cell_type": "code",
   "execution_count": 9,
   "metadata": {},
   "outputs": [
    {
     "name": "stdout",
     "output_type": "stream",
     "text": [
      "/home/victorhugo/Dropbox/cenote_victor_data/paper_sep18\n"
     ]
    }
   ],
   "source": [
    "cd -"
   ]
  },
  {
   "cell_type": "code",
   "execution_count": 10,
   "metadata": {},
   "outputs": [
    {
     "name": "stdout",
     "output_type": "stream",
     "text": [
      "\u001b[32mSaved Visualization to: core-metrics-results/faith-pd-group-significance.qzv\u001b[0m\n",
      "\u001b[32mSaved Visualization to: core-metrics-results/evenness-group-significance.qzv\u001b[0m\n"
     ]
    }
   ],
   "source": [
    "qiime diversity alpha-group-significance \\\n",
    "  --i-alpha-diversity core-metrics-results/faith_pd_vector.qza \\\n",
    "  --m-metadata-file metadata.tsv \\\n",
    "  --o-visualization core-metrics-results/faith-pd-group-significance.qzv\n",
    "\n",
    "qiime diversity alpha-group-significance \\\n",
    "  --i-alpha-diversity core-metrics-results/evenness_vector.qza \\\n",
    "  --m-metadata-file metadata.tsv \\\n",
    "  --o-visualization core-metrics-results/evenness-group-significance.qzv"
   ]
  },
  {
   "cell_type": "code",
   "execution_count": null,
   "metadata": {},
   "outputs": [],
   "source": [
    "qiime diversity alpha-correlation\n",
    "  --i-alph"
   ]
  },
  {
   "cell_type": "code",
   "execution_count": 11,
   "metadata": {},
   "outputs": [
    {
     "name": "stdout",
     "output_type": "stream",
     "text": [
      "\u001b[32mSaved FeatureTable[Composition] to: comp-cenotes-tab.qza\u001b[0m\n"
     ]
    }
   ],
   "source": [
    "qiime composition add-pseudocount \\\n",
    "  --i-table table-freq-cenotes-final.qza \\\n",
    "  --o-composition-table comp-cenotes-tab.qza"
   ]
  },
  {
   "cell_type": "code",
   "execution_count": 15,
   "metadata": {},
   "outputs": [
    {
     "name": "stdout",
     "output_type": "stream",
     "text": [
      "Usage: qiime metadata distance-matrix [OPTIONS]\n",
      "\n",
      "  Create a distance matrix from a numeric metadata column. The Euclidean\n",
      "  distance is computed between each pair of samples or features in the\n",
      "  column.\n",
      "\n",
      "  Tip: the distance matrix produced by this method can be used as input to\n",
      "  the Mantel test available in `q2-diversity`.\n",
      "\n",
      "Options:\n",
      "  --m-metadata-file MULTIPLE PATH\n",
      "                                  Metadata file or artifact viewable as\n",
      "                                  metadata. This option may be supplied\n",
      "                                  multiple times to merge metadata.\n",
      "                                  [required]\n",
      "  --m-metadata-column MetadataColumn[Numeric]\n",
      "                                  Column from metadata file or artifact\n",
      "                                  viewable as metadata. Numeric metadata\n",
      "                                  column to compute pairwise Euclidean\n",
      "                                  distances from  [required]\n",
      "  --o-distance-matrix ARTIFACT PATH DistanceMatrix\n",
      "                                  [required if not passing --output-dir]\n",
      "  --output-dir DIRECTORY          Output unspecified results to a directory\n",
      "  --cmd-config PATH               Use config file for command options\n",
      "  --verbose                       Display verbose output to stdout and/or\n",
      "                                  stderr during execution of this action.\n",
      "                                  [default: False]\n",
      "  --quiet                         Silence output if execution is successful\n",
      "                                  (silence is golden).  [default: False]\n",
      "  --citations                     Show citations and exit.\n",
      "  --help                          Show this message and exit.\n"
     ]
    }
   ],
   "source": [
    "qiime metadata distance-matrix --help"
   ]
  },
  {
   "cell_type": "markdown",
   "metadata": {},
   "source": [
    "Convert the biom table file to a json format to be able to __import into STAMP__"
   ]
  },
  {
   "cell_type": "code",
   "execution_count": 1,
   "metadata": {},
   "outputs": [
    {
     "name": "stdout",
     "output_type": "stream",
     "text": [
      "/home/victorhugo/anaconda3/lib/python3.6/importlib/_bootstrap.py:219: RuntimeWarning: numpy.dtype size changed, may indicate binary incompatibility. Expected 96, got 88\n",
      "  return f(*args, **kwds)\n",
      "/home/victorhugo/anaconda3/lib/python3.6/importlib/_bootstrap.py:219: RuntimeWarning: numpy.dtype size changed, may indicate binary incompatibility. Expected 96, got 88\n",
      "  return f(*args, **kwds)\n",
      "/home/victorhugo/anaconda3/lib/python3.6/importlib/_bootstrap.py:219: RuntimeWarning: numpy.dtype size changed, may indicate binary incompatibility. Expected 96, got 88\n",
      "  return f(*args, **kwds)\n",
      "/home/victorhugo/anaconda3/lib/python3.6/site-packages/h5py/__init__.py:36: FutureWarning: Conversion of the second argument of issubdtype from `float` to `np.floating` is deprecated. In future, it will be treated as `np.float64 == np.dtype(float).type`.\n",
      "  from ._conv import register_converters as _register_converters\n"
     ]
    }
   ],
   "source": [
    "biom convert -i exported/feature-table.biom -o table.from_biom.txt --to-tsv"
   ]
  },
  {
   "cell_type": "code",
   "execution_count": 2,
   "metadata": {},
   "outputs": [
    {
     "name": "stdout",
     "output_type": "stream",
     "text": [
      "/home/victorhugo/anaconda3/lib/python3.6/importlib/_bootstrap.py:219: RuntimeWarning: numpy.dtype size changed, may indicate binary incompatibility. Expected 96, got 88\n",
      "  return f(*args, **kwds)\n",
      "/home/victorhugo/anaconda3/lib/python3.6/importlib/_bootstrap.py:219: RuntimeWarning: numpy.dtype size changed, may indicate binary incompatibility. Expected 96, got 88\n",
      "  return f(*args, **kwds)\n",
      "/home/victorhugo/anaconda3/lib/python3.6/importlib/_bootstrap.py:219: RuntimeWarning: numpy.dtype size changed, may indicate binary incompatibility. Expected 96, got 88\n",
      "  return f(*args, **kwds)\n",
      "/home/victorhugo/anaconda3/lib/python3.6/site-packages/h5py/__init__.py:36: FutureWarning: Conversion of the second argument of issubdtype from `float` to `np.floating` is deprecated. In future, it will be treated as `np.float64 == np.dtype(float).type`.\n",
      "  from ._conv import register_converters as _register_converters\n"
     ]
    }
   ],
   "source": [
    "biom convert -i exported/table.from_biom.txt -o table.from_txt_json.biom --table-type=\"OTU table\" --to-json"
   ]
  },
  {
   "cell_type": "code",
   "execution_count": 3,
   "metadata": {},
   "outputs": [
    {
     "name": "stdout",
     "output_type": "stream",
     "text": [
      "/home/victorhugo/anaconda3/lib/python3.6/importlib/_bootstrap.py:219: RuntimeWarning: numpy.dtype size changed, may indicate binary incompatibility. Expected 96, got 88\n",
      "  return f(*args, **kwds)\n",
      "/home/victorhugo/anaconda3/lib/python3.6/importlib/_bootstrap.py:219: RuntimeWarning: numpy.dtype size changed, may indicate binary incompatibility. Expected 96, got 88\n",
      "  return f(*args, **kwds)\n",
      "/home/victorhugo/anaconda3/lib/python3.6/importlib/_bootstrap.py:219: RuntimeWarning: numpy.dtype size changed, may indicate binary incompatibility. Expected 96, got 88\n",
      "  return f(*args, **kwds)\n",
      "/home/victorhugo/anaconda3/lib/python3.6/site-packages/h5py/__init__.py:36: FutureWarning: Conversion of the second argument of issubdtype from `float` to `np.floating` is deprecated. In future, it will be treated as `np.float64 == np.dtype(float).type`.\n",
      "  from ._conv import register_converters as _register_converters\n",
      "# Constructed from biom file\n",
      "#OTU ID\tMX.01\tYB03\tYB08\tYB13\tYBO4\n",
      "000622543982e76cb4ddc33f0239ed69\t0.0\t0.0\t4.0\t0.0\t0.0\n",
      "00425f9417dbc98fde4d359c95c31113\t0.0\t0.0\t77.0\t0.0\t0.0\n",
      "0063eb3e31a443281a989489a8002184\t0.0\t0.0\t45.0\t0.0\t0.0\n",
      "0090b6c69e484667f923767fe7babd21\t0.0\t0.0\t0.0\t40.0\t0.0\n",
      "00b68bbb88612984f1e9d6e3f25e0847\t0.0\t8.0\t0.0\t0.0\t0.0\n"
     ]
    }
   ],
   "source": [
    "biom head -i exported/table.from_biom.txt"
   ]
  },
  {
   "cell_type": "markdown",
   "metadata": {},
   "source": [
    "When I tried to import the .json file to STAMP it shows a message indicating that the taxonomic was not into the file\n",
    "\n",
    "I'm going to create a BIOM table with taxonomic anotations (https://forum.qiime2.org/t/exporting-and-modifying-biom-tables-e-g-adding-taxonomy-annotations/3630)"
   ]
  },
  {
   "cell_type": "code",
   "execution_count": 16,
   "metadata": {},
   "outputs": [
    {
     "name": "stdout",
     "output_type": "stream",
     "text": [
      "\u001b[32mExported taxonomy-cenotes.qza as TSVTaxonomyDirectoryFormat to directory exported\u001b[0m\n"
     ]
    }
   ],
   "source": [
    "qiime tools export --input-path taxonomy-cenotes.qza --output-path exported"
   ]
  },
  {
   "cell_type": "code",
   "execution_count": 17,
   "metadata": {},
   "outputs": [],
   "source": [
    "cp exported/taxonomy.tsv exported/biom-taxonomy.tsv"
   ]
  },
  {
   "cell_type": "code",
   "execution_count": 23,
   "metadata": {},
   "outputs": [
    {
     "name": "stdout",
     "output_type": "stream",
     "text": [
      "/home/victorhugo/anaconda3/lib/python3.6/importlib/_bootstrap.py:219: RuntimeWarning: numpy.dtype size changed, may indicate binary incompatibility. Expected 96, got 88\n",
      "  return f(*args, **kwds)\n",
      "/home/victorhugo/anaconda3/lib/python3.6/importlib/_bootstrap.py:219: RuntimeWarning: numpy.dtype size changed, may indicate binary incompatibility. Expected 96, got 88\n",
      "  return f(*args, **kwds)\n",
      "/home/victorhugo/anaconda3/lib/python3.6/importlib/_bootstrap.py:219: RuntimeWarning: numpy.dtype size changed, may indicate binary incompatibility. Expected 96, got 88\n",
      "  return f(*args, **kwds)\n",
      "/home/victorhugo/anaconda3/lib/python3.6/site-packages/h5py/__init__.py:36: FutureWarning: Conversion of the second argument of issubdtype from `float` to `np.floating` is deprecated. In future, it will be treated as `np.float64 == np.dtype(float).type`.\n",
      "  from ._conv import register_converters as _register_converters\n"
     ]
    }
   ],
   "source": [
    "biom add-metadata -i exported/feature-table.biom -o exported/table-with-taxonomy.biom \\\n",
    "  --observation-metadata-fp exported/biom-taxonomy.tsv --sc-separated taxonomy"
   ]
  },
  {
   "cell_type": "markdown",
   "metadata": {},
   "source": [
    "Convert the biom table file create before __(table-with-taxonomy.biom)__ to a json format to be able to import into STAMP"
   ]
  },
  {
   "cell_type": "code",
   "execution_count": 24,
   "metadata": {},
   "outputs": [
    {
     "name": "stdout",
     "output_type": "stream",
     "text": [
      "/home/victorhugo/anaconda3/lib/python3.6/importlib/_bootstrap.py:219: RuntimeWarning: numpy.dtype size changed, may indicate binary incompatibility. Expected 96, got 88\n",
      "  return f(*args, **kwds)\n",
      "/home/victorhugo/anaconda3/lib/python3.6/importlib/_bootstrap.py:219: RuntimeWarning: numpy.dtype size changed, may indicate binary incompatibility. Expected 96, got 88\n",
      "  return f(*args, **kwds)\n",
      "/home/victorhugo/anaconda3/lib/python3.6/importlib/_bootstrap.py:219: RuntimeWarning: numpy.dtype size changed, may indicate binary incompatibility. Expected 96, got 88\n",
      "  return f(*args, **kwds)\n",
      "/home/victorhugo/anaconda3/lib/python3.6/site-packages/h5py/__init__.py:36: FutureWarning: Conversion of the second argument of issubdtype from `float` to `np.floating` is deprecated. In future, it will be treated as `np.float64 == np.dtype(float).type`.\n",
      "  from ._conv import register_converters as _register_converters\n"
     ]
    }
   ],
   "source": [
    "biom convert -i exported/table-with-taxonomy.biom -o exported/table-with-taxonomy.from_biom.txt --to-tsv"
   ]
  },
  {
   "cell_type": "code",
   "execution_count": 25,
   "metadata": {},
   "outputs": [
    {
     "name": "stdout",
     "output_type": "stream",
     "text": [
      "/home/victorhugo/anaconda3/lib/python3.6/importlib/_bootstrap.py:219: RuntimeWarning: numpy.dtype size changed, may indicate binary incompatibility. Expected 96, got 88\n",
      "  return f(*args, **kwds)\n",
      "/home/victorhugo/anaconda3/lib/python3.6/importlib/_bootstrap.py:219: RuntimeWarning: numpy.dtype size changed, may indicate binary incompatibility. Expected 96, got 88\n",
      "  return f(*args, **kwds)\n",
      "/home/victorhugo/anaconda3/lib/python3.6/importlib/_bootstrap.py:219: RuntimeWarning: numpy.dtype size changed, may indicate binary incompatibility. Expected 96, got 88\n",
      "  return f(*args, **kwds)\n",
      "/home/victorhugo/anaconda3/lib/python3.6/site-packages/h5py/__init__.py:36: FutureWarning: Conversion of the second argument of issubdtype from `float` to `np.floating` is deprecated. In future, it will be treated as `np.float64 == np.dtype(float).type`.\n",
      "  from ._conv import register_converters as _register_converters\n"
     ]
    }
   ],
   "source": [
    "biom convert -i exported/table-with-taxonomy.from_biom.txt -o exported/table-with-taxonomy.from_txt_json.biom --table-type=\"OTU table\" --to-json"
   ]
  },
  {
   "cell_type": "markdown",
   "metadata": {},
   "source": [
    "__Filtering the sequencens for cyanobacteria__"
   ]
  },
  {
   "cell_type": "code",
   "execution_count": 1,
   "metadata": {},
   "outputs": [
    {
     "name": "stdout",
     "output_type": "stream",
     "text": [
      "\u001b[32mSaved FeatureTable[Frequency] to: table-with-cyano.qza\u001b[0m\n"
     ]
    }
   ],
   "source": [
    "qiime taxa filter-table \\\n",
    "  --i-table table-freq-cenotes-final.qza \\\n",
    "  --i-taxonomy taxonomy-cenotes.qza \\\n",
    "  --p-include cyano \\\n",
    "  --o-filtered-table table-with-cyano.qza"
   ]
  },
  {
   "cell_type": "code",
   "execution_count": 2,
   "metadata": {},
   "outputs": [
    {
     "name": "stdout",
     "output_type": "stream",
     "text": [
      "\u001b[32mSaved Visualization to: taxonomy-cenotes-cyano.qzv\u001b[0m\n"
     ]
    }
   ],
   "source": [
    "qiime taxa barplot \\\n",
    "  --i-table table-with-cyano.qza \\\n",
    "  --i-taxonomy taxonomy-cenotes.qza \\\n",
    "  --m-metadata-file metadata.tsv \\\n",
    "  --o-visualization taxonomy-cenotes-cyano.qzv"
   ]
  },
  {
   "cell_type": "code",
   "execution_count": 4,
   "metadata": {},
   "outputs": [
    {
     "name": "stdout",
     "output_type": "stream",
     "text": [
      "\u001b[32mSaved FeatureData[Sequence] to: rep-seqs-cyano.qza\u001b[0m\n"
     ]
    }
   ],
   "source": [
    "qiime feature-table filter-seqs \\\n",
    "  --i-data rep-seqs-cenotes.qza \\\n",
    "  --i-table table-with-cyano.qza \\\n",
    "  --o-filtered-data rep-seqs-cyano.qza"
   ]
  },
  {
   "cell_type": "code",
   "execution_count": 5,
   "metadata": {},
   "outputs": [
    {
     "name": "stdout",
     "output_type": "stream",
     "text": [
      "\u001b[32mSaved Visualization to: rep-seqs-cyano.qzv\u001b[0m\n"
     ]
    }
   ],
   "source": [
    "qiime feature-table tabulate-seqs \\\n",
    "  --i-data rep-seqs-cyano.qza \\\n",
    "  --o-visualization rep-seqs-cyano.qzv"
   ]
  },
  {
   "cell_type": "markdown",
   "metadata": {},
   "source": [
    "__Filtering the sequencens for cyanobacteria excluding chloroplast__"
   ]
  },
  {
   "cell_type": "code",
   "execution_count": 1,
   "metadata": {},
   "outputs": [
    {
     "name": "stdout",
     "output_type": "stream",
     "text": [
      "\u001b[32mSaved FeatureTable[Frequency] to: table-with-phyla-no-mitochondria-no-chloroplast.qza\u001b[0m\n"
     ]
    }
   ],
   "source": [
    "qiime taxa filter-table \\\n",
    "  --i-table table-freq-cenotes-final.qza \\\n",
    "  --i-taxonomy taxonomy-cenotes.qza \\\n",
    "  --p-include cyano \\\n",
    "  --p-exclude mitochondria,chloroplast \\\n",
    "  --o-filtered-table table-with-phyla-no-mitochondria-no-chloroplast.qza"
   ]
  },
  {
   "cell_type": "code",
   "execution_count": 2,
   "metadata": {},
   "outputs": [
    {
     "name": "stdout",
     "output_type": "stream",
     "text": [
      "\u001b[32mSaved Visualization to: taxonomy-cenotes-no-mitochondria-no-chloroplast.qzv\u001b[0m\n"
     ]
    }
   ],
   "source": [
    "qiime taxa barplot \\\n",
    "  --i-table table-with-phyla-no-mitochondria-no-chloroplast.qza \\\n",
    "  --i-taxonomy taxonomy-cenotes.qza \\\n",
    "  --m-metadata-file metadata.tsv \\\n",
    "  --o-visualization taxonomy-cenotes-no-mitochondria-no-chloroplast.qzv"
   ]
  },
  {
   "cell_type": "code",
   "execution_count": 9,
   "metadata": {},
   "outputs": [
    {
     "name": "stdout",
     "output_type": "stream",
     "text": [
      "Usage: qiime diversity alpha [OPTIONS]\n",
      "\n",
      "Error: Got unexpected extra argument (shannon)\n"
     ]
    },
    {
     "ename": "",
     "evalue": "2",
     "output_type": "error",
     "traceback": []
    }
   ],
   "source": [
    "qiime diversity alpha \\\n",
    "  --i-table  \\\n",
    "  --p-metric observed_otus \\\n",
    "  --o-\n",
    "  --output-dir alpha-diversity-cyano"
   ]
  },
  {
   "cell_type": "markdown",
   "metadata": {},
   "source": [
    "__picrust__"
   ]
  },
  {
   "cell_type": "code",
   "execution_count": 7,
   "metadata": {},
   "outputs": [
    {
     "name": "stdout",
     "output_type": "stream",
     "text": [
      "Usage: qiime picrust2 custom-tree-pipeline [OPTIONS]\n",
      "\n",
      "  QIIME2 plugin for running PICRUSt2 pipeline based on a tree from a\n",
      "  different pipeline. This was written to be used with the output of SEPP\n",
      "  (q2-fragment-insertion) as a starting point.\n",
      "\n",
      "Options:\n",
      "  --i-table ARTIFACT PATH FeatureTable[Frequency]\n",
      "                                  The feature table containing sequence\n",
      "                                  abundances per sample.  [required]\n",
      "  --i-tree ARTIFACT PATH Phylogeny[Rooted]\n",
      "                                  Tree of study ASVs placed into reference\n",
      "                                  phylgeney.  [required]\n",
      "  --p-threads INTEGER RANGE       Number of threads/processes to use during\n",
      "                                  workflow.  [default: 1]\n",
      "  --p-hsp-method [pic|emp_prob|subtree_average|scp|mp]\n",
      "                                  Which hidden-state prediction method to use.\n",
      "                                  [default: mp]\n",
      "  --p-max-nsti INTEGER RANGE      Max nearest-sequenced taxon index for an\n",
      "                                  input ASV to be output.  [default: 2]\n",
      "  --o-ko-metagenome ARTIFACT PATH FeatureTable[Frequency]\n",
      "                                  Predicted metagenome for KEGG orthologs\n",
      "                                  [required if not passing --output-dir]\n",
      "  --o-ec-metagenome ARTIFACT PATH FeatureTable[Frequency]\n",
      "                                  Predicted metagenome for E.C. numbers\n",
      "                                  [required if not passing --output-dir]\n",
      "  --o-pathway-abundance ARTIFACT PATH FeatureTable[Frequency]\n",
      "                                  Predicted MetaCyc pathway abundances\n",
      "                                  [required if not passing --output-dir]\n",
      "  --o-pathway-coverage ARTIFACT PATH FeatureTable[Frequency]\n",
      "                                  Predicted MetaCyc pathway coverages\n",
      "                                  [required if not passing --output-dir]\n",
      "  --output-dir DIRECTORY          Output unspecified results to a directory\n",
      "  --cmd-config PATH               Use config file for command options\n",
      "  --verbose                       Display verbose output to stdout and/or\n",
      "                                  stderr during execution of this action.\n",
      "                                  [default: False]\n",
      "  --quiet                         Silence output if execution is successful\n",
      "                                  (silence is golden).  [default: False]\n",
      "  --citations                     Show citations and exit.\n",
      "  --help                          Show this message and exit.\n"
     ]
    }
   ],
   "source": [
    "qiime picrust2 custom-tree-pipeline --help"
   ]
  },
  {
   "cell_type": "code",
   "execution_count": 2,
   "metadata": {},
   "outputs": [
    {
     "name": "stdout",
     "output_type": "stream",
     "text": [
      "Error running this command:\n",
      "hsp.py -i 16S -t /tmp/tmpae4ajbqm/placed_seqs.tre -p 1 -n -o /tmp/tmpae4ajbqm/picrust2_out/16S_predicted -m mp\n"
     ]
    },
    {
     "ename": "",
     "evalue": "1",
     "output_type": "error",
     "traceback": []
    }
   ],
   "source": [
    "qiime picrust2 custom-tree-pipeline \\\n",
    "  --i-table table-freq-cenotes-final.qza \\\n",
    "  --i-tree rooted-tree-cenotes.qza \\\n",
    "  --output-dir q2-picrust2_output \\\n",
    "  --p-threads 1 \\\n",
    "  --p-max-nsti 2"
   ]
  },
  {
   "cell_type": "code",
   "execution_count": 1,
   "metadata": {},
   "outputs": [
    {
     "name": "stdout",
     "output_type": "stream",
     "text": [
      "--2018-11-28 00:45:59--  ftp://greengenes.microbio.me/greengenes_release/gg_13_5/gg_13_8_otus.tar.gz\n",
      "           => “gg_13_8_otus.tar.gz”\n",
      "Resolviendo greengenes.microbio.me... 169.228.46.98\n",
      "Conectando con greengenes.microbio.me[169.228.46.98]:21... conectado.\n",
      "Identificándose como anonymous ... ¡Dentro!\n",
      "==> SYST ... hecho.   ==> PWD ... hecho.\n",
      "==> TYPE I ... hecho.  ==> CWD (1) /greengenes_release/gg_13_5 ... hecho.\n",
      "==> SIZE gg_13_8_otus.tar.gz ... 320067060\n",
      "==> PASV ... hecho.   ==> RETR gg_13_8_otus.tar.gz ... hecho.\n",
      "Longitud: 320067060 (305M) (probablemente)\n",
      "\n",
      "gg_13_8_otus.tar.gz 100%[===================>] 305.24M   321KB/s    en 21m 23s \n",
      "\n",
      "2018-11-28 01:07:24 (244 KB/s) - Conexión de control cerrada.\n",
      "Reintentando.\n",
      "\n",
      "--2018-11-28 01:22:25--  ftp://greengenes.microbio.me/greengenes_release/gg_13_5/gg_13_8_otus.tar.gz\n",
      "  (intento: 2) => “gg_13_8_otus.tar.gz”\n",
      "Conectando con greengenes.microbio.me[169.228.46.98]:21... conectado.\n",
      "Identificándose como anonymous ... ¡Dentro!\n",
      "==> SYST ... hecho.   ==> PWD ... hecho.\n",
      "==> TYPE I ... hecho.  ==> CWD (1) /greengenes_release/gg_13_5 ... hecho.\n",
      "==> SIZE gg_13_8_otus.tar.gz ... 320067060\n",
      "El fichero ya fué recuperado.\n",
      "2018-11-28 01:22:27 (0.00 B/s) - “gg_13_8_otus.tar.gz” guardado [320067060]\n",
      "\n"
     ]
    }
   ],
   "source": [
    "wget ftp://greengenes.microbio.me/greengenes_release/gg_13_5/gg_13_8_otus.tar.gz"
   ]
  },
  {
   "cell_type": "code",
   "execution_count": 2,
   "metadata": {},
   "outputs": [],
   "source": [
    "tar -xzf gg_13_8_otus.tar.gz"
   ]
  },
  {
   "cell_type": "code",
   "execution_count": 3,
   "metadata": {},
   "outputs": [],
   "source": [
    "qiime tools import \\\n",
    "  --input-path gg_13_8_otus/rep_set/99_otus.fasta \\\n",
    "  --output-path gg_13_8_otu_99.qza \\\n",
    "  --type 'FeatureData[Sequence]'"
   ]
  },
  {
   "cell_type": "code",
   "execution_count": 2,
   "metadata": {},
   "outputs": [
    {
     "name": "stdout",
     "output_type": "stream",
     "text": [
      "\u001b[32mSaved FeatureTable[Frequency] to: base_gg_closedRef_forPICRUSt/clustered_table.qza\u001b[0m\n",
      "\u001b[32mSaved FeatureData[Sequence] to: base_gg_closedRef_forPICRUSt/clustered_sequences.qza\u001b[0m\n",
      "\u001b[32mSaved FeatureData[Sequence] to: base_gg_closedRef_forPICRUSt/unmatched_sequences.qza\u001b[0m\n"
     ]
    }
   ],
   "source": [
    "qiime vsearch cluster-features-closed-reference \\\n",
    "--i-sequences rep-seqs-cenotes-final.qza \\\n",
    "--i-table table-freq-cenotes-final.qza \\\n",
    "--i-reference-sequences gg_13_8_otu_99.qza \\\n",
    "--p-perc-identity 1 \\\n",
    "--p-threads 0 \\\n",
    "--output-dir base_gg_closedRef_forPICRUSt"
   ]
  },
  {
   "cell_type": "code",
   "execution_count": 3,
   "metadata": {},
   "outputs": [],
   "source": [
    "qiime tools export \\\n",
    "    base_gg_closedRef_forPICRUSt/clustered_table.qza \\\n",
    "    --output-dir base_gg_closedRef_forPICRUSt/clustered_table_export"
   ]
  },
  {
   "cell_type": "code",
   "execution_count": 5,
   "metadata": {},
   "outputs": [
    {
     "name": "stdout",
     "output_type": "stream",
     "text": [
      "\n",
      "Orden «iget» no encontrada. Quizá quiso decir:\n",
      "\n",
      "  la orden «mget» del paquete snap «mget (0.1.2)»\n",
      "  la orden «bget» del paquete deb «ax25-tools»\n",
      "  la orden «kget» del paquete deb «kget»\n",
      "  la orden «pget» del paquete deb «pbuilder-scripts»\n",
      "  la orden «dget» del paquete deb «devscripts»\n",
      "  la orden «imget» del paquete deb «im»\n",
      "  la orden «wget» del paquete deb «wget»\n",
      "\n",
      "Consulte «snap info <nombre del snap>» para ver más versiones.\n",
      "\n"
     ]
    },
    {
     "ename": "",
     "evalue": "127",
     "output_type": "error",
     "traceback": []
    }
   ],
   "source": [
    "iget meta4_gg_99_picrust.biom"
   ]
  },
  {
   "cell_type": "code",
   "execution_count": null,
   "metadata": {},
   "outputs": [],
   "source": []
  }
 ],
 "metadata": {
  "kernelspec": {
   "display_name": "Bash",
   "language": "bash",
   "name": "bash"
  },
  "language_info": {
   "codemirror_mode": "shell",
   "file_extension": ".sh",
   "mimetype": "text/x-sh",
   "name": "bash"
  }
 },
 "nbformat": 4,
 "nbformat_minor": 2
}
